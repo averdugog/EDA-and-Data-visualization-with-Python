{
 "cells": [
  {
   "cell_type": "code",
   "execution_count": 21,
   "metadata": {},
   "outputs": [],
   "source": [
    "# import libraries\n",
    "import pandas as pd\n",
    "import json\n",
    "import plotly.express as px\n",
    "import plotly.graph_objs as go"
   ]
  },
  {
   "cell_type": "code",
   "execution_count": 22,
   "metadata": {},
   "outputs": [],
   "source": [
    "# load dataframe in a variable name it 'df_ventas'\n",
    "df_ventas = pd.read_csv(\"C:/Users/Alejandro Verdugo/Downloads/2023_ventas.csv\", dtype={\"SUCURSAL\": str})"
   ]
  },
  {
   "cell_type": "code",
   "execution_count": 23,
   "metadata": {},
   "outputs": [
    {
     "data": {
      "text/html": [
       "<div>\n",
       "<style scoped>\n",
       "    .dataframe tbody tr th:only-of-type {\n",
       "        vertical-align: middle;\n",
       "    }\n",
       "\n",
       "    .dataframe tbody tr th {\n",
       "        vertical-align: top;\n",
       "    }\n",
       "\n",
       "    .dataframe thead th {\n",
       "        text-align: right;\n",
       "    }\n",
       "</style>\n",
       "<table border=\"1\" class=\"dataframe\">\n",
       "  <thead>\n",
       "    <tr style=\"text-align: right;\">\n",
       "      <th></th>\n",
       "      <th>SUCURSAL</th>\n",
       "      <th>SubC</th>\n",
       "      <th>COSTO</th>\n",
       "    </tr>\n",
       "  </thead>\n",
       "  <tbody>\n",
       "    <tr>\n",
       "      <th>0</th>\n",
       "      <td>CULIACAN</td>\n",
       "      <td>ACCESORIOS CICLO REF</td>\n",
       "      <td>1684718.77</td>\n",
       "    </tr>\n",
       "    <tr>\n",
       "      <th>1</th>\n",
       "      <td>CULIACAN</td>\n",
       "      <td>ACCESORIOS ELECTRICOS</td>\n",
       "      <td>1210965.24</td>\n",
       "    </tr>\n",
       "    <tr>\n",
       "      <th>2</th>\n",
       "      <td>CULIACAN</td>\n",
       "      <td>ASTROCOOL</td>\n",
       "      <td>40864.00</td>\n",
       "    </tr>\n",
       "    <tr>\n",
       "      <th>3</th>\n",
       "      <td>CULIACAN</td>\n",
       "      <td>COMPRESORES</td>\n",
       "      <td>5768891.51</td>\n",
       "    </tr>\n",
       "    <tr>\n",
       "      <th>4</th>\n",
       "      <td>CULIACAN</td>\n",
       "      <td>CONTROLES</td>\n",
       "      <td>1048015.72</td>\n",
       "    </tr>\n",
       "    <tr>\n",
       "      <th>...</th>\n",
       "      <td>...</td>\n",
       "      <td>...</td>\n",
       "      <td>...</td>\n",
       "    </tr>\n",
       "    <tr>\n",
       "      <th>180</th>\n",
       "      <td>TIJUANA</td>\n",
       "      <td>QUIMICOS Y SOLVENTES</td>\n",
       "      <td>2516631.35</td>\n",
       "    </tr>\n",
       "    <tr>\n",
       "      <th>181</th>\n",
       "      <td>TIJUANA</td>\n",
       "      <td>REFACC FUERA CATALOGO</td>\n",
       "      <td>27885.97</td>\n",
       "    </tr>\n",
       "    <tr>\n",
       "      <th>182</th>\n",
       "      <td>TIJUANA</td>\n",
       "      <td>REFACC ORIGINALES</td>\n",
       "      <td>1730447.25</td>\n",
       "    </tr>\n",
       "    <tr>\n",
       "      <th>183</th>\n",
       "      <td>TIJUANA</td>\n",
       "      <td>TUBERIA, AISLAMIENTO Y CONEXIONES</td>\n",
       "      <td>12821063.27</td>\n",
       "    </tr>\n",
       "    <tr>\n",
       "      <th>184</th>\n",
       "      <td>TIJUANA</td>\n",
       "      <td>VENTILACION Y EXTRACCION</td>\n",
       "      <td>15719175.38</td>\n",
       "    </tr>\n",
       "  </tbody>\n",
       "</table>\n",
       "<p>185 rows × 3 columns</p>\n",
       "</div>"
      ],
      "text/plain": [
       "     SUCURSAL                               SubC        COSTO\n",
       "0    CULIACAN               ACCESORIOS CICLO REF   1684718.77\n",
       "1    CULIACAN              ACCESORIOS ELECTRICOS   1210965.24\n",
       "2    CULIACAN                          ASTROCOOL     40864.00\n",
       "3    CULIACAN                        COMPRESORES   5768891.51\n",
       "4    CULIACAN                          CONTROLES   1048015.72\n",
       "..        ...                                ...          ...\n",
       "180   TIJUANA               QUIMICOS Y SOLVENTES   2516631.35\n",
       "181   TIJUANA              REFACC FUERA CATALOGO     27885.97\n",
       "182   TIJUANA                  REFACC ORIGINALES   1730447.25\n",
       "183   TIJUANA  TUBERIA, AISLAMIENTO Y CONEXIONES  12821063.27\n",
       "184   TIJUANA           VENTILACION Y EXTRACCION  15719175.38\n",
       "\n",
       "[185 rows x 3 columns]"
      ]
     },
     "execution_count": 23,
     "metadata": {},
     "output_type": "execute_result"
    }
   ],
   "source": [
    "# group sales by store and subcategory\n",
    "df_ventas = df_ventas.groupby(['SUCURSAL', 'SubC'])['COSTO'].sum().reset_index()\n",
    "df_ventas"
   ]
  },
  {
   "cell_type": "code",
   "execution_count": 24,
   "metadata": {},
   "outputs": [
    {
     "data": {
      "text/html": [
       "<div>\n",
       "<style scoped>\n",
       "    .dataframe tbody tr th:only-of-type {\n",
       "        vertical-align: middle;\n",
       "    }\n",
       "\n",
       "    .dataframe tbody tr th {\n",
       "        vertical-align: top;\n",
       "    }\n",
       "\n",
       "    .dataframe thead th {\n",
       "        text-align: right;\n",
       "    }\n",
       "</style>\n",
       "<table border=\"1\" class=\"dataframe\">\n",
       "  <thead>\n",
       "    <tr style=\"text-align: right;\">\n",
       "      <th></th>\n",
       "      <th>SUCURSAL</th>\n",
       "      <th>SubC</th>\n",
       "      <th>COSTO</th>\n",
       "      <th>latitud</th>\n",
       "      <th>longitud</th>\n",
       "    </tr>\n",
       "  </thead>\n",
       "  <tbody>\n",
       "    <tr>\n",
       "      <th>0</th>\n",
       "      <td>CULIACAN</td>\n",
       "      <td>ACCESORIOS CICLO REF</td>\n",
       "      <td>1684718.77</td>\n",
       "      <td>24.79032</td>\n",
       "      <td>-107.38782</td>\n",
       "    </tr>\n",
       "    <tr>\n",
       "      <th>1</th>\n",
       "      <td>CULIACAN</td>\n",
       "      <td>ACCESORIOS ELECTRICOS</td>\n",
       "      <td>1210965.24</td>\n",
       "      <td>24.79032</td>\n",
       "      <td>-107.38782</td>\n",
       "    </tr>\n",
       "    <tr>\n",
       "      <th>2</th>\n",
       "      <td>CULIACAN</td>\n",
       "      <td>ASTROCOOL</td>\n",
       "      <td>40864.00</td>\n",
       "      <td>24.79032</td>\n",
       "      <td>-107.38782</td>\n",
       "    </tr>\n",
       "    <tr>\n",
       "      <th>3</th>\n",
       "      <td>CULIACAN</td>\n",
       "      <td>COMPRESORES</td>\n",
       "      <td>5768891.51</td>\n",
       "      <td>24.79032</td>\n",
       "      <td>-107.38782</td>\n",
       "    </tr>\n",
       "    <tr>\n",
       "      <th>4</th>\n",
       "      <td>CULIACAN</td>\n",
       "      <td>CONTROLES</td>\n",
       "      <td>1048015.72</td>\n",
       "      <td>24.79032</td>\n",
       "      <td>-107.38782</td>\n",
       "    </tr>\n",
       "    <tr>\n",
       "      <th>...</th>\n",
       "      <td>...</td>\n",
       "      <td>...</td>\n",
       "      <td>...</td>\n",
       "      <td>...</td>\n",
       "      <td>...</td>\n",
       "    </tr>\n",
       "    <tr>\n",
       "      <th>180</th>\n",
       "      <td>TIJUANA</td>\n",
       "      <td>QUIMICOS Y SOLVENTES</td>\n",
       "      <td>2516631.35</td>\n",
       "      <td>32.50270</td>\n",
       "      <td>-117.00371</td>\n",
       "    </tr>\n",
       "    <tr>\n",
       "      <th>181</th>\n",
       "      <td>TIJUANA</td>\n",
       "      <td>REFACC FUERA CATALOGO</td>\n",
       "      <td>27885.97</td>\n",
       "      <td>32.50270</td>\n",
       "      <td>-117.00371</td>\n",
       "    </tr>\n",
       "    <tr>\n",
       "      <th>182</th>\n",
       "      <td>TIJUANA</td>\n",
       "      <td>REFACC ORIGINALES</td>\n",
       "      <td>1730447.25</td>\n",
       "      <td>32.50270</td>\n",
       "      <td>-117.00371</td>\n",
       "    </tr>\n",
       "    <tr>\n",
       "      <th>183</th>\n",
       "      <td>TIJUANA</td>\n",
       "      <td>TUBERIA, AISLAMIENTO Y CONEXIONES</td>\n",
       "      <td>12821063.27</td>\n",
       "      <td>32.50270</td>\n",
       "      <td>-117.00371</td>\n",
       "    </tr>\n",
       "    <tr>\n",
       "      <th>184</th>\n",
       "      <td>TIJUANA</td>\n",
       "      <td>VENTILACION Y EXTRACCION</td>\n",
       "      <td>15719175.38</td>\n",
       "      <td>32.50270</td>\n",
       "      <td>-117.00371</td>\n",
       "    </tr>\n",
       "  </tbody>\n",
       "</table>\n",
       "<p>185 rows × 5 columns</p>\n",
       "</div>"
      ],
      "text/plain": [
       "     SUCURSAL                               SubC        COSTO   latitud  \\\n",
       "0    CULIACAN               ACCESORIOS CICLO REF   1684718.77  24.79032   \n",
       "1    CULIACAN              ACCESORIOS ELECTRICOS   1210965.24  24.79032   \n",
       "2    CULIACAN                          ASTROCOOL     40864.00  24.79032   \n",
       "3    CULIACAN                        COMPRESORES   5768891.51  24.79032   \n",
       "4    CULIACAN                          CONTROLES   1048015.72  24.79032   \n",
       "..        ...                                ...          ...       ...   \n",
       "180   TIJUANA               QUIMICOS Y SOLVENTES   2516631.35  32.50270   \n",
       "181   TIJUANA              REFACC FUERA CATALOGO     27885.97  32.50270   \n",
       "182   TIJUANA                  REFACC ORIGINALES   1730447.25  32.50270   \n",
       "183   TIJUANA  TUBERIA, AISLAMIENTO Y CONEXIONES  12821063.27  32.50270   \n",
       "184   TIJUANA           VENTILACION Y EXTRACCION  15719175.38  32.50270   \n",
       "\n",
       "      longitud  \n",
       "0   -107.38782  \n",
       "1   -107.38782  \n",
       "2   -107.38782  \n",
       "3   -107.38782  \n",
       "4   -107.38782  \n",
       "..         ...  \n",
       "180 -117.00371  \n",
       "181 -117.00371  \n",
       "182 -117.00371  \n",
       "183 -117.00371  \n",
       "184 -117.00371  \n",
       "\n",
       "[185 rows x 5 columns]"
      ]
     },
     "execution_count": 24,
     "metadata": {},
     "output_type": "execute_result"
    }
   ],
   "source": [
    "# dictionary with the coordinates of cities\n",
    "coordenadas_ciudades = {\n",
    "    \"HERMOSILLO\": (29.1026, -110.97732),\n",
    "    \"NOGALES\": (31.30862, -110.94217),\n",
    "    \"CULIACAN\": (24.79032, -107.38782),\n",
    "    \"TIJUANA\": (32.5027, -117.00371),\n",
    "    \"OBREGON\": (27.48642, -109.94083),\n",
    "    \"MEXICALI\": (32.62781, -115.45446),\n",
    "    \"LA PAZ\": (24.14437, -110.3005),\n",
    "    \"LOS MOCHIS\": (25.79302, -108.99808),\n",
    "    \"GUADALAJARA\": (20.66682, -103.39182),\n",
    "    \"QUERETARO\": (20.58806, -100.38806),\n",
    "    \"MONTERREY\": (25.67507, -100.31847)\n",
    "}\n",
    "\n",
    "# df_sales dataframe\n",
    "for index, row in df_ventas.iterrows():\n",
    "    ciudad = row['SUCURSAL']\n",
    "    if ciudad in coordenadas_ciudades:\n",
    "        df_ventas.at[index, 'latitud'], df_ventas.at[index, 'longitud'] = coordenadas_ciudades[ciudad]\n",
    "\n",
    "df_ventas"
   ]
  },
  {
   "cell_type": "code",
   "execution_count": 25,
   "metadata": {},
   "outputs": [
    {
     "data": {
      "application/vnd.plotly.v1+json": {
       "config": {
        "plotlyServerURL": "https://plot.ly"
       },
       "data": [
        {
         "lat": [
          24.79032,
          20.66682,
          29.1026,
          24.14437,
          25.79302,
          32.62781,
          25.67507,
          31.30862,
          27.48642,
          20.58806,
          32.5027
         ],
         "lon": [
          -107.38782,
          -103.39182,
          -110.97732,
          -110.3005,
          -108.99808,
          -115.45446,
          -100.31847,
          -110.94217,
          -109.94083,
          -100.38806,
          -117.00371
         ],
         "marker": {
          "color": [
           1684718.77,
           1532187.31,
           2648150.31,
           944194.49,
           861065.89,
           1482964.04,
           2560597.23,
           858102.37,
           1497582.66,
           1171047.73,
           2928165.38
          ],
          "colorbar": {
           "title": {
            "text": "Cantidad Vendida"
           }
          },
          "colorscale": [
           [
            0,
            "rgb(255,255,204)"
           ],
           [
            0.125,
            "rgb(255,237,160)"
           ],
           [
            0.25,
            "rgb(254,217,118)"
           ],
           [
            0.375,
            "rgb(254,178,76)"
           ],
           [
            0.5,
            "rgb(253,141,60)"
           ],
           [
            0.625,
            "rgb(252,78,42)"
           ],
           [
            0.75,
            "rgb(227,26,28)"
           ],
           [
            0.875,
            "rgb(189,0,38)"
           ],
           [
            1,
            "rgb(128,0,38)"
           ]
          ],
          "size": [
           1684718.77,
           1532187.31,
           2648150.31,
           944194.49,
           861065.89,
           1482964.04,
           2560597.23,
           858102.37,
           1497582.66,
           1171047.73,
           2928165.38
          ],
          "sizemin": 4,
          "sizemode": "area",
          "sizeref": 3660.206725
         },
         "name": "ACCESORIOS CICLO REF",
         "text": [
          "CULIACAN - 1684718.77",
          "GUADALAJARA - 1532187.31",
          "HERMOSILLO - 2648150.31",
          "LA PAZ - 944194.49",
          "LOS MOCHIS - 861065.89",
          "MEXICALI - 1482964.04",
          "MONTERREY - 2560597.23",
          "NOGALES - 858102.37",
          "OBREGON - 1497582.66",
          "QUERETARO - 1171047.73",
          "TIJUANA - 2928165.38"
         ],
         "type": "scattergeo",
         "visible": true
        },
        {
         "lat": [
          24.79032,
          20.66682,
          29.1026,
          24.14437,
          25.79302,
          32.62781,
          25.67507,
          31.30862,
          27.48642,
          20.58806,
          32.5027
         ],
         "lon": [
          -107.38782,
          -103.39182,
          -110.97732,
          -110.3005,
          -108.99808,
          -115.45446,
          -100.31847,
          -110.94217,
          -109.94083,
          -100.38806,
          -117.00371
         ],
         "marker": {
          "color": [
           1210965.24,
           1182319.15,
           1936312.27,
           572265.79,
           385318.69,
           784057.06,
           350119.31,
           614330.56,
           945792.83,
           327806.81,
           1246149.74
          ],
          "colorbar": {
           "title": {
            "text": "Cantidad Vendida"
           }
          },
          "colorscale": [
           [
            0,
            "rgb(255,255,204)"
           ],
           [
            0.125,
            "rgb(255,237,160)"
           ],
           [
            0.25,
            "rgb(254,217,118)"
           ],
           [
            0.375,
            "rgb(254,178,76)"
           ],
           [
            0.5,
            "rgb(253,141,60)"
           ],
           [
            0.625,
            "rgb(252,78,42)"
           ],
           [
            0.75,
            "rgb(227,26,28)"
           ],
           [
            0.875,
            "rgb(189,0,38)"
           ],
           [
            1,
            "rgb(128,0,38)"
           ]
          ],
          "size": [
           1210965.24,
           1182319.15,
           1936312.27,
           572265.79,
           385318.69,
           784057.06,
           350119.31,
           614330.56,
           945792.83,
           327806.81,
           1246149.74
          ],
          "sizemin": 4,
          "sizemode": "area",
          "sizeref": 2420.3903375
         },
         "name": "ACCESORIOS ELECTRICOS",
         "text": [
          "CULIACAN - 1210965.24",
          "GUADALAJARA - 1182319.15",
          "HERMOSILLO - 1936312.27",
          "LA PAZ - 572265.79",
          "LOS MOCHIS - 385318.69",
          "MEXICALI - 784057.06",
          "MONTERREY - 350119.31",
          "NOGALES - 614330.56",
          "OBREGON - 945792.83",
          "QUERETARO - 327806.81",
          "TIJUANA - 1246149.74"
         ],
         "type": "scattergeo",
         "visible": false
        },
        {
         "lat": [
          24.79032,
          29.1026,
          24.14437,
          25.79302,
          31.30862,
          27.48642,
          20.58806
         ],
         "lon": [
          -107.38782,
          -110.97732,
          -110.3005,
          -108.99808,
          -110.94217,
          -109.94083,
          -100.38806
         ],
         "marker": {
          "color": [
           40864,
           40864,
           34354.5,
           28147,
           28147,
           321508.42000000004,
           178415.95
          ],
          "colorbar": {
           "title": {
            "text": "Cantidad Vendida"
           }
          },
          "colorscale": [
           [
            0,
            "rgb(255,255,204)"
           ],
           [
            0.125,
            "rgb(255,237,160)"
           ],
           [
            0.25,
            "rgb(254,217,118)"
           ],
           [
            0.375,
            "rgb(254,178,76)"
           ],
           [
            0.5,
            "rgb(253,141,60)"
           ],
           [
            0.625,
            "rgb(252,78,42)"
           ],
           [
            0.75,
            "rgb(227,26,28)"
           ],
           [
            0.875,
            "rgb(189,0,38)"
           ],
           [
            1,
            "rgb(128,0,38)"
           ]
          ],
          "size": [
           40864,
           40864,
           34354.5,
           28147,
           28147,
           321508.42000000004,
           178415.95
          ],
          "sizemin": 4,
          "sizemode": "area",
          "sizeref": 401.88552500000003
         },
         "name": "ASTROCOOL",
         "text": [
          "CULIACAN - 40864.0",
          "HERMOSILLO - 40864.0",
          "LA PAZ - 34354.5",
          "LOS MOCHIS - 28147.0",
          "NOGALES - 28147.0",
          "OBREGON - 321508.42000000004",
          "QUERETARO - 178415.95"
         ],
         "type": "scattergeo",
         "visible": false
        },
        {
         "lat": [
          24.79032,
          20.66682,
          29.1026,
          24.14437,
          25.79302,
          32.62781,
          25.67507,
          31.30862,
          27.48642,
          20.58806,
          32.5027
         ],
         "lon": [
          -107.38782,
          -103.39182,
          -110.97732,
          -110.3005,
          -108.99808,
          -115.45446,
          -100.31847,
          -110.94217,
          -109.94083,
          -100.38806,
          -117.00371
         ],
         "marker": {
          "color": [
           5768891.51,
           5857911.62,
           8866896.23,
           2252140.39,
           1979809.21,
           5560512.39,
           2986327.44,
           3466180.15,
           2872045.05,
           4526965,
           9540909.96
          ],
          "colorbar": {
           "title": {
            "text": "Cantidad Vendida"
           }
          },
          "colorscale": [
           [
            0,
            "rgb(255,255,204)"
           ],
           [
            0.125,
            "rgb(255,237,160)"
           ],
           [
            0.25,
            "rgb(254,217,118)"
           ],
           [
            0.375,
            "rgb(254,178,76)"
           ],
           [
            0.5,
            "rgb(253,141,60)"
           ],
           [
            0.625,
            "rgb(252,78,42)"
           ],
           [
            0.75,
            "rgb(227,26,28)"
           ],
           [
            0.875,
            "rgb(189,0,38)"
           ],
           [
            1,
            "rgb(128,0,38)"
           ]
          ],
          "size": [
           5768891.51,
           5857911.62,
           8866896.23,
           2252140.39,
           1979809.21,
           5560512.39,
           2986327.44,
           3466180.15,
           2872045.05,
           4526965,
           9540909.96
          ],
          "sizemin": 4,
          "sizemode": "area",
          "sizeref": 11926.137450000002
         },
         "name": "COMPRESORES",
         "text": [
          "CULIACAN - 5768891.51",
          "GUADALAJARA - 5857911.62",
          "HERMOSILLO - 8866896.23",
          "LA PAZ - 2252140.39",
          "LOS MOCHIS - 1979809.21",
          "MEXICALI - 5560512.39",
          "MONTERREY - 2986327.44",
          "NOGALES - 3466180.15",
          "OBREGON - 2872045.05",
          "QUERETARO - 4526965.0",
          "TIJUANA - 9540909.96"
         ],
         "type": "scattergeo",
         "visible": false
        },
        {
         "lat": [
          24.79032,
          20.66682,
          29.1026,
          24.14437,
          25.79302,
          32.62781,
          25.67507,
          31.30862,
          27.48642,
          20.58806,
          32.5027
         ],
         "lon": [
          -107.38782,
          -103.39182,
          -110.97732,
          -110.3005,
          -108.99808,
          -115.45446,
          -100.31847,
          -110.94217,
          -109.94083,
          -100.38806,
          -117.00371
         ],
         "marker": {
          "color": [
           1048015.72,
           992281.11,
           2624692,
           822474.52,
           532024.22,
           1280849.41,
           861934.73,
           590118.17,
           1122640.53,
           931196.81,
           4442802.88
          ],
          "colorbar": {
           "title": {
            "text": "Cantidad Vendida"
           }
          },
          "colorscale": [
           [
            0,
            "rgb(255,255,204)"
           ],
           [
            0.125,
            "rgb(255,237,160)"
           ],
           [
            0.25,
            "rgb(254,217,118)"
           ],
           [
            0.375,
            "rgb(254,178,76)"
           ],
           [
            0.5,
            "rgb(253,141,60)"
           ],
           [
            0.625,
            "rgb(252,78,42)"
           ],
           [
            0.75,
            "rgb(227,26,28)"
           ],
           [
            0.875,
            "rgb(189,0,38)"
           ],
           [
            1,
            "rgb(128,0,38)"
           ]
          ],
          "size": [
           1048015.72,
           992281.11,
           2624692,
           822474.52,
           532024.22,
           1280849.41,
           861934.73,
           590118.17,
           1122640.53,
           931196.81,
           4442802.88
          ],
          "sizemin": 4,
          "sizemode": "area",
          "sizeref": 5553.5036
         },
         "name": "CONTROLES",
         "text": [
          "CULIACAN - 1048015.72",
          "GUADALAJARA - 992281.11",
          "HERMOSILLO - 2624692.0",
          "LA PAZ - 822474.52",
          "LOS MOCHIS - 532024.22",
          "MEXICALI - 1280849.41",
          "MONTERREY - 861934.73",
          "NOGALES - 590118.17",
          "OBREGON - 1122640.53",
          "QUERETARO - 931196.81",
          "TIJUANA - 4442802.88"
         ],
         "type": "scattergeo",
         "visible": false
        },
        {
         "lat": [
          24.79032,
          20.66682,
          29.1026,
          24.14437,
          25.79302,
          32.62781,
          25.67507,
          31.30862,
          27.48642,
          20.58806,
          32.5027
         ],
         "lon": [
          -107.38782,
          -103.39182,
          -110.97732,
          -110.3005,
          -108.99808,
          -115.45446,
          -100.31847,
          -110.94217,
          -109.94083,
          -100.38806,
          -117.00371
         ],
         "marker": {
          "color": [
           16359253.83,
           20629008.05,
           26459724.76,
           20705537.57,
           8577696.48,
           14805556.47,
           5706433.03,
           13782468.77,
           5202971.22,
           11348093.31,
           45769418.19
          ],
          "colorbar": {
           "title": {
            "text": "Cantidad Vendida"
           }
          },
          "colorscale": [
           [
            0,
            "rgb(255,255,204)"
           ],
           [
            0.125,
            "rgb(255,237,160)"
           ],
           [
            0.25,
            "rgb(254,217,118)"
           ],
           [
            0.375,
            "rgb(254,178,76)"
           ],
           [
            0.5,
            "rgb(253,141,60)"
           ],
           [
            0.625,
            "rgb(252,78,42)"
           ],
           [
            0.75,
            "rgb(227,26,28)"
           ],
           [
            0.875,
            "rgb(189,0,38)"
           ],
           [
            1,
            "rgb(128,0,38)"
           ]
          ],
          "size": [
           16359253.83,
           20629008.05,
           26459724.76,
           20705537.57,
           8577696.48,
           14805556.47,
           5706433.03,
           13782468.77,
           5202971.22,
           11348093.31,
           45769418.19
          ],
          "sizemin": 4,
          "sizemode": "area",
          "sizeref": 57211.772737499996
         },
         "name": "EQUIPO AC",
         "text": [
          "CULIACAN - 16359253.83",
          "GUADALAJARA - 20629008.05",
          "HERMOSILLO - 26459724.76",
          "LA PAZ - 20705537.57",
          "LOS MOCHIS - 8577696.48",
          "MEXICALI - 14805556.47",
          "MONTERREY - 5706433.03",
          "NOGALES - 13782468.77",
          "OBREGON - 5202971.22",
          "QUERETARO - 11348093.31",
          "TIJUANA - 45769418.19"
         ],
         "type": "scattergeo",
         "visible": false
        },
        {
         "lat": [
          27.48642
         ],
         "lon": [
          -109.94083
         ],
         "marker": {
          "color": [
           45500
          ],
          "colorbar": {
           "title": {
            "text": "Cantidad Vendida"
           }
          },
          "colorscale": [
           [
            0,
            "rgb(255,255,204)"
           ],
           [
            0.125,
            "rgb(255,237,160)"
           ],
           [
            0.25,
            "rgb(254,217,118)"
           ],
           [
            0.375,
            "rgb(254,178,76)"
           ],
           [
            0.5,
            "rgb(253,141,60)"
           ],
           [
            0.625,
            "rgb(252,78,42)"
           ],
           [
            0.75,
            "rgb(227,26,28)"
           ],
           [
            0.875,
            "rgb(189,0,38)"
           ],
           [
            1,
            "rgb(128,0,38)"
           ]
          ],
          "size": [
           45500
          ],
          "sizemin": 4,
          "sizemode": "area",
          "sizeref": 56.875
         },
         "name": "EQUIPOS PRE-ENFRIADO",
         "text": [
          "OBREGON - 45500.0"
         ],
         "type": "scattergeo",
         "visible": false
        },
        {
         "lat": [
          24.79032,
          20.66682,
          29.1026,
          24.14437,
          25.79302,
          32.62781,
          25.67507,
          31.30862,
          27.48642,
          20.58806,
          32.5027
         ],
         "lon": [
          -107.38782,
          -103.39182,
          -110.97732,
          -110.3005,
          -108.99808,
          -115.45446,
          -100.31847,
          -110.94217,
          -109.94083,
          -100.38806,
          -117.00371
         ],
         "marker": {
          "color": [
           4327738.73,
           3272470.82,
           567593.82,
           1336158.1099999999,
           10680565.95,
           1022333.86,
           282791.25,
           569760.96,
           8105387.49,
           1417189.41,
           4249025.65
          ],
          "colorbar": {
           "title": {
            "text": "Cantidad Vendida"
           }
          },
          "colorscale": [
           [
            0,
            "rgb(255,255,204)"
           ],
           [
            0.125,
            "rgb(255,237,160)"
           ],
           [
            0.25,
            "rgb(254,217,118)"
           ],
           [
            0.375,
            "rgb(254,178,76)"
           ],
           [
            0.5,
            "rgb(253,141,60)"
           ],
           [
            0.625,
            "rgb(252,78,42)"
           ],
           [
            0.75,
            "rgb(227,26,28)"
           ],
           [
            0.875,
            "rgb(189,0,38)"
           ],
           [
            1,
            "rgb(128,0,38)"
           ]
          ],
          "size": [
           4327738.73,
           3272470.82,
           567593.82,
           1336158.1099999999,
           10680565.95,
           1022333.86,
           282791.25,
           569760.96,
           8105387.49,
           1417189.41,
           4249025.65
          ],
          "sizemin": 4,
          "sizemode": "area",
          "sizeref": 13350.7074375
         },
         "name": "EQUIPOS REF",
         "text": [
          "CULIACAN - 4327738.73",
          "GUADALAJARA - 3272470.82",
          "HERMOSILLO - 567593.82",
          "LA PAZ - 1336158.1099999999",
          "LOS MOCHIS - 10680565.95",
          "MEXICALI - 1022333.86",
          "MONTERREY - 282791.25",
          "NOGALES - 569760.96",
          "OBREGON - 8105387.49",
          "QUERETARO - 1417189.41",
          "TIJUANA - 4249025.65"
         ],
         "type": "scattergeo",
         "visible": false
        },
        {
         "lat": [
          24.79032,
          20.66682,
          29.1026,
          24.14437,
          25.79302,
          32.62781,
          25.67507,
          31.30862,
          27.48642,
          20.58806,
          32.5027
         ],
         "lon": [
          -107.38782,
          -103.39182,
          -110.97732,
          -110.3005,
          -108.99808,
          -115.45446,
          -100.31847,
          -110.94217,
          -109.94083,
          -100.38806,
          -117.00371
         ],
         "marker": {
          "color": [
           4557401.68,
           3700295.43,
           6833803.38,
           2719610.07,
           4101110.62,
           5608020.21,
           4070773.29,
           17878450.39,
           4652174.94,
           2441478.67,
           12379006.39
          ],
          "colorbar": {
           "title": {
            "text": "Cantidad Vendida"
           }
          },
          "colorscale": [
           [
            0,
            "rgb(255,255,204)"
           ],
           [
            0.125,
            "rgb(255,237,160)"
           ],
           [
            0.25,
            "rgb(254,217,118)"
           ],
           [
            0.375,
            "rgb(254,178,76)"
           ],
           [
            0.5,
            "rgb(253,141,60)"
           ],
           [
            0.625,
            "rgb(252,78,42)"
           ],
           [
            0.75,
            "rgb(227,26,28)"
           ],
           [
            0.875,
            "rgb(189,0,38)"
           ],
           [
            1,
            "rgb(128,0,38)"
           ]
          ],
          "size": [
           4557401.68,
           3700295.43,
           6833803.38,
           2719610.07,
           4101110.62,
           5608020.21,
           4070773.29,
           17878450.39,
           4652174.94,
           2441478.67,
           12379006.39
          ],
          "sizemin": 4,
          "sizemode": "area",
          "sizeref": 22348.0629875
         },
         "name": "GASES REFRIGERANTES",
         "text": [
          "CULIACAN - 4557401.68",
          "GUADALAJARA - 3700295.43",
          "HERMOSILLO - 6833803.38",
          "LA PAZ - 2719610.07",
          "LOS MOCHIS - 4101110.62",
          "MEXICALI - 5608020.21",
          "MONTERREY - 4070773.29",
          "NOGALES - 17878450.39",
          "OBREGON - 4652174.94",
          "QUERETARO - 2441478.67",
          "TIJUANA - 12379006.39"
         ],
         "type": "scattergeo",
         "visible": false
        },
        {
         "lat": [
          24.79032,
          20.66682,
          29.1026,
          24.14437,
          25.79302,
          32.62781,
          25.67507,
          31.30862,
          27.48642,
          20.58806,
          32.5027
         ],
         "lon": [
          -107.38782,
          -103.39182,
          -110.97732,
          -110.3005,
          -108.99808,
          -115.45446,
          -100.31847,
          -110.94217,
          -109.94083,
          -100.38806,
          -117.00371
         ],
         "marker": {
          "color": [
           1062060.57,
           1318005.36,
           2192894.12,
           1111476.97,
           486200.89,
           1038937.06,
           720552.8,
           675385.96,
           721304.7,
           584875.97,
           2093080.23
          ],
          "colorbar": {
           "title": {
            "text": "Cantidad Vendida"
           }
          },
          "colorscale": [
           [
            0,
            "rgb(255,255,204)"
           ],
           [
            0.125,
            "rgb(255,237,160)"
           ],
           [
            0.25,
            "rgb(254,217,118)"
           ],
           [
            0.375,
            "rgb(254,178,76)"
           ],
           [
            0.5,
            "rgb(253,141,60)"
           ],
           [
            0.625,
            "rgb(252,78,42)"
           ],
           [
            0.75,
            "rgb(227,26,28)"
           ],
           [
            0.875,
            "rgb(189,0,38)"
           ],
           [
            1,
            "rgb(128,0,38)"
           ]
          ],
          "size": [
           1062060.57,
           1318005.36,
           2192894.12,
           1111476.97,
           486200.89,
           1038937.06,
           720552.8,
           675385.96,
           721304.7,
           584875.97,
           2093080.23
          ],
          "sizemin": 4,
          "sizemode": "area",
          "sizeref": 2741.11765
         },
         "name": "HERRAMIENTAS E INSTRUMENTOS DE MEDICION",
         "text": [
          "CULIACAN - 1062060.57",
          "GUADALAJARA - 1318005.36",
          "HERMOSILLO - 2192894.12",
          "LA PAZ - 1111476.97",
          "LOS MOCHIS - 486200.89",
          "MEXICALI - 1038937.06",
          "MONTERREY - 720552.8",
          "NOGALES - 675385.96",
          "OBREGON - 721304.7",
          "QUERETARO - 584875.97",
          "TIJUANA - 2093080.23"
         ],
         "type": "scattergeo",
         "visible": false
        },
        {
         "lat": [
          20.66682,
          29.1026,
          24.14437,
          27.48642,
          32.5027
         ],
         "lon": [
          -103.39182,
          -110.97732,
          -110.3005,
          -109.94083,
          -117.00371
         ],
         "marker": {
          "color": [
           48142.92,
           23841.07,
           27666.45,
           5417.02,
           6724.63
          ],
          "colorbar": {
           "title": {
            "text": "Cantidad Vendida"
           }
          },
          "colorscale": [
           [
            0,
            "rgb(255,255,204)"
           ],
           [
            0.125,
            "rgb(255,237,160)"
           ],
           [
            0.25,
            "rgb(254,217,118)"
           ],
           [
            0.375,
            "rgb(254,178,76)"
           ],
           [
            0.5,
            "rgb(253,141,60)"
           ],
           [
            0.625,
            "rgb(252,78,42)"
           ],
           [
            0.75,
            "rgb(227,26,28)"
           ],
           [
            0.875,
            "rgb(189,0,38)"
           ],
           [
            1,
            "rgb(128,0,38)"
           ]
          ],
          "size": [
           48142.92,
           23841.07,
           27666.45,
           5417.02,
           6724.63
          ],
          "sizemin": 4,
          "sizemode": "area",
          "sizeref": 60.17865
         },
         "name": "INTERCAMBIADORES DE CALOR",
         "text": [
          "GUADALAJARA - 48142.92",
          "HERMOSILLO - 23841.07",
          "LA PAZ - 27666.45",
          "OBREGON - 5417.02",
          "TIJUANA - 6724.63"
         ],
         "type": "scattergeo",
         "visible": false
        },
        {
         "lat": [
          24.79032,
          20.66682,
          29.1026,
          24.14437,
          25.79302,
          32.62781,
          25.67507,
          31.30862,
          27.48642,
          20.58806,
          32.5027
         ],
         "lon": [
          -107.38782,
          -103.39182,
          -110.97732,
          -110.3005,
          -108.99808,
          -115.45446,
          -100.31847,
          -110.94217,
          -109.94083,
          -100.38806,
          -117.00371
         ],
         "marker": {
          "color": [
           1779510.72,
           4517249.97,
           4693973.06,
           8447124.69,
           1890628.32,
           8079230.01,
           4754614.53,
           1974989.08,
           1405509.8,
           986482.34,
           19458916.81
          ],
          "colorbar": {
           "title": {
            "text": "Cantidad Vendida"
           }
          },
          "colorscale": [
           [
            0,
            "rgb(255,255,204)"
           ],
           [
            0.125,
            "rgb(255,237,160)"
           ],
           [
            0.25,
            "rgb(254,217,118)"
           ],
           [
            0.375,
            "rgb(254,178,76)"
           ],
           [
            0.5,
            "rgb(253,141,60)"
           ],
           [
            0.625,
            "rgb(252,78,42)"
           ],
           [
            0.75,
            "rgb(227,26,28)"
           ],
           [
            0.875,
            "rgb(189,0,38)"
           ],
           [
            1,
            "rgb(128,0,38)"
           ]
          ],
          "size": [
           1779510.72,
           4517249.97,
           4693973.06,
           8447124.69,
           1890628.32,
           8079230.01,
           4754614.53,
           1974989.08,
           1405509.8,
           986482.34,
           19458916.81
          ],
          "sizemin": 4,
          "sizemode": "area",
          "sizeref": 24323.646012499998
         },
         "name": "MAT DISTRIBUCION DE AIRE",
         "text": [
          "CULIACAN - 1779510.72",
          "GUADALAJARA - 4517249.97",
          "HERMOSILLO - 4693973.06",
          "LA PAZ - 8447124.69",
          "LOS MOCHIS - 1890628.32",
          "MEXICALI - 8079230.01",
          "MONTERREY - 4754614.53",
          "NOGALES - 1974989.08",
          "OBREGON - 1405509.8",
          "QUERETARO - 986482.34",
          "TIJUANA - 19458916.81"
         ],
         "type": "scattergeo",
         "visible": false
        },
        {
         "lat": [
          24.79032,
          20.66682,
          29.1026,
          24.14437,
          25.79302,
          32.62781,
          25.67507,
          31.30862,
          27.48642,
          20.58806,
          32.5027
         ],
         "lon": [
          -107.38782,
          -103.39182,
          -110.97732,
          -110.3005,
          -108.99808,
          -115.45446,
          -100.31847,
          -110.94217,
          -109.94083,
          -100.38806,
          -117.00371
         ],
         "marker": {
          "color": [
           2093025.89,
           2709875.52,
           3771002.64,
           1656583.27,
           893304.85,
           1959745.88,
           1576097.31,
           1569924.07,
           1154827.76,
           1247654.18,
           6971574.81
          ],
          "colorbar": {
           "title": {
            "text": "Cantidad Vendida"
           }
          },
          "colorscale": [
           [
            0,
            "rgb(255,255,204)"
           ],
           [
            0.125,
            "rgb(255,237,160)"
           ],
           [
            0.25,
            "rgb(254,217,118)"
           ],
           [
            0.375,
            "rgb(254,178,76)"
           ],
           [
            0.5,
            "rgb(253,141,60)"
           ],
           [
            0.625,
            "rgb(252,78,42)"
           ],
           [
            0.75,
            "rgb(227,26,28)"
           ],
           [
            0.875,
            "rgb(189,0,38)"
           ],
           [
            1,
            "rgb(128,0,38)"
           ]
          ],
          "size": [
           2093025.89,
           2709875.52,
           3771002.64,
           1656583.27,
           893304.85,
           1959745.88,
           1576097.31,
           1569924.07,
           1154827.76,
           1247654.18,
           6971574.81
          ],
          "sizemin": 4,
          "sizemode": "area",
          "sizeref": 8714.4685125
         },
         "name": "MAT INSTALACION Y SERVICIO",
         "text": [
          "CULIACAN - 2093025.89",
          "GUADALAJARA - 2709875.52",
          "HERMOSILLO - 3771002.64",
          "LA PAZ - 1656583.27",
          "LOS MOCHIS - 893304.85",
          "MEXICALI - 1959745.88",
          "MONTERREY - 1576097.31",
          "NOGALES - 1569924.07",
          "OBREGON - 1154827.76",
          "QUERETARO - 1247654.18",
          "TIJUANA - 6971574.81"
         ],
         "type": "scattergeo",
         "visible": false
        },
        {
         "lat": [
          24.79032,
          20.66682,
          29.1026,
          24.14437,
          25.79302,
          32.62781,
          25.67507,
          31.30862,
          27.48642,
          20.58806,
          32.5027
         ],
         "lon": [
          -107.38782,
          -103.39182,
          -110.97732,
          -110.3005,
          -108.99808,
          -115.45446,
          -100.31847,
          -110.94217,
          -109.94083,
          -100.38806,
          -117.00371
         ],
         "marker": {
          "color": [
           1836938.47,
           2417203.29,
           3545629.4,
           1026477.04,
           906638.87,
           1925192.8,
           715163.95,
           1001516.33,
           1992495.07,
           912762.09,
           4460180.82
          ],
          "colorbar": {
           "title": {
            "text": "Cantidad Vendida"
           }
          },
          "colorscale": [
           [
            0,
            "rgb(255,255,204)"
           ],
           [
            0.125,
            "rgb(255,237,160)"
           ],
           [
            0.25,
            "rgb(254,217,118)"
           ],
           [
            0.375,
            "rgb(254,178,76)"
           ],
           [
            0.5,
            "rgb(253,141,60)"
           ],
           [
            0.625,
            "rgb(252,78,42)"
           ],
           [
            0.75,
            "rgb(227,26,28)"
           ],
           [
            0.875,
            "rgb(189,0,38)"
           ],
           [
            1,
            "rgb(128,0,38)"
           ]
          ],
          "size": [
           1836938.47,
           2417203.29,
           3545629.4,
           1026477.04,
           906638.87,
           1925192.8,
           715163.95,
           1001516.33,
           1992495.07,
           912762.09,
           4460180.82
          ],
          "sizemin": 4,
          "sizemode": "area",
          "sizeref": 5575.226025
         },
         "name": "MOTORES Y ACCESORIOS",
         "text": [
          "CULIACAN - 1836938.47",
          "GUADALAJARA - 2417203.29",
          "HERMOSILLO - 3545629.4",
          "LA PAZ - 1026477.04",
          "LOS MOCHIS - 906638.87",
          "MEXICALI - 1925192.8",
          "MONTERREY - 715163.95",
          "NOGALES - 1001516.33",
          "OBREGON - 1992495.07",
          "QUERETARO - 912762.09",
          "TIJUANA - 4460180.82"
         ],
         "type": "scattergeo",
         "visible": false
        },
        {
         "lat": [
          24.79032,
          20.66682,
          29.1026,
          24.14437,
          25.79302,
          32.62781,
          25.67507,
          31.30862,
          27.48642,
          20.58806,
          32.5027
         ],
         "lon": [
          -107.38782,
          -103.39182,
          -110.97732,
          -110.3005,
          -108.99808,
          -115.45446,
          -100.31847,
          -110.94217,
          -109.94083,
          -100.38806,
          -117.00371
         ],
         "marker": {
          "color": [
           982808.67,
           1251181.65,
           2964907.32,
           1393028.72,
           716095.12,
           1229693.88,
           955446.75,
           1608311.19,
           947586.06,
           679472.14,
           2516631.35
          ],
          "colorbar": {
           "title": {
            "text": "Cantidad Vendida"
           }
          },
          "colorscale": [
           [
            0,
            "rgb(255,255,204)"
           ],
           [
            0.125,
            "rgb(255,237,160)"
           ],
           [
            0.25,
            "rgb(254,217,118)"
           ],
           [
            0.375,
            "rgb(254,178,76)"
           ],
           [
            0.5,
            "rgb(253,141,60)"
           ],
           [
            0.625,
            "rgb(252,78,42)"
           ],
           [
            0.75,
            "rgb(227,26,28)"
           ],
           [
            0.875,
            "rgb(189,0,38)"
           ],
           [
            1,
            "rgb(128,0,38)"
           ]
          ],
          "size": [
           982808.67,
           1251181.65,
           2964907.32,
           1393028.72,
           716095.12,
           1229693.88,
           955446.75,
           1608311.19,
           947586.06,
           679472.14,
           2516631.35
          ],
          "sizemin": 4,
          "sizemode": "area",
          "sizeref": 3706.13415
         },
         "name": "QUIMICOS Y SOLVENTES",
         "text": [
          "CULIACAN - 982808.67",
          "GUADALAJARA - 1251181.65",
          "HERMOSILLO - 2964907.32",
          "LA PAZ - 1393028.72",
          "LOS MOCHIS - 716095.12",
          "MEXICALI - 1229693.88",
          "MONTERREY - 955446.75",
          "NOGALES - 1608311.19",
          "OBREGON - 947586.06",
          "QUERETARO - 679472.14",
          "TIJUANA - 2516631.35"
         ],
         "type": "scattergeo",
         "visible": false
        },
        {
         "lat": [
          20.66682,
          29.1026,
          24.14437,
          25.79302,
          32.62781,
          20.58806,
          32.5027
         ],
         "lon": [
          -103.39182,
          -110.97732,
          -110.3005,
          -108.99808,
          -115.45446,
          -100.38806,
          -117.00371
         ],
         "marker": {
          "color": [
           53380.55,
           60053.41,
           1366.09,
           677.16,
           23013.18,
           1580,
           27885.97
          ],
          "colorbar": {
           "title": {
            "text": "Cantidad Vendida"
           }
          },
          "colorscale": [
           [
            0,
            "rgb(255,255,204)"
           ],
           [
            0.125,
            "rgb(255,237,160)"
           ],
           [
            0.25,
            "rgb(254,217,118)"
           ],
           [
            0.375,
            "rgb(254,178,76)"
           ],
           [
            0.5,
            "rgb(253,141,60)"
           ],
           [
            0.625,
            "rgb(252,78,42)"
           ],
           [
            0.75,
            "rgb(227,26,28)"
           ],
           [
            0.875,
            "rgb(189,0,38)"
           ],
           [
            1,
            "rgb(128,0,38)"
           ]
          ],
          "size": [
           53380.55,
           60053.41,
           1366.09,
           677.16,
           23013.18,
           1580,
           27885.97
          ],
          "sizemin": 4,
          "sizemode": "area",
          "sizeref": 75.06676250000001
         },
         "name": "REFACC FUERA CATALOGO",
         "text": [
          "GUADALAJARA - 53380.55",
          "HERMOSILLO - 60053.41",
          "LA PAZ - 1366.09",
          "LOS MOCHIS - 677.16",
          "MEXICALI - 23013.18",
          "QUERETARO - 1580.0",
          "TIJUANA - 27885.97"
         ],
         "type": "scattergeo",
         "visible": false
        },
        {
         "lat": [
          24.79032,
          20.66682,
          29.1026,
          24.14437,
          25.79302,
          32.62781,
          25.67507,
          31.30862,
          27.48642,
          20.58806,
          32.5027
         ],
         "lon": [
          -107.38782,
          -103.39182,
          -110.97732,
          -110.3005,
          -108.99808,
          -115.45446,
          -100.31847,
          -110.94217,
          -109.94083,
          -100.38806,
          -117.00371
         ],
         "marker": {
          "color": [
           352431.94,
           629083.41,
           758104.88,
           1444319.86,
           177157.02,
           597026.52,
           996209.98,
           409894.57,
           292165.27,
           169209.01,
           1730447.25
          ],
          "colorbar": {
           "title": {
            "text": "Cantidad Vendida"
           }
          },
          "colorscale": [
           [
            0,
            "rgb(255,255,204)"
           ],
           [
            0.125,
            "rgb(255,237,160)"
           ],
           [
            0.25,
            "rgb(254,217,118)"
           ],
           [
            0.375,
            "rgb(254,178,76)"
           ],
           [
            0.5,
            "rgb(253,141,60)"
           ],
           [
            0.625,
            "rgb(252,78,42)"
           ],
           [
            0.75,
            "rgb(227,26,28)"
           ],
           [
            0.875,
            "rgb(189,0,38)"
           ],
           [
            1,
            "rgb(128,0,38)"
           ]
          ],
          "size": [
           352431.94,
           629083.41,
           758104.88,
           1444319.86,
           177157.02,
           597026.52,
           996209.98,
           409894.57,
           292165.27,
           169209.01,
           1730447.25
          ],
          "sizemin": 4,
          "sizemode": "area",
          "sizeref": 2163.0590625
         },
         "name": "REFACC ORIGINALES",
         "text": [
          "CULIACAN - 352431.94",
          "GUADALAJARA - 629083.41",
          "HERMOSILLO - 758104.88",
          "LA PAZ - 1444319.86",
          "LOS MOCHIS - 177157.02",
          "MEXICALI - 597026.52",
          "MONTERREY - 996209.98",
          "NOGALES - 409894.57",
          "OBREGON - 292165.27",
          "QUERETARO - 169209.01",
          "TIJUANA - 1730447.25"
         ],
         "type": "scattergeo",
         "visible": false
        },
        {
         "lat": [
          24.79032,
          20.66682,
          29.1026,
          24.14437,
          25.79302,
          32.62781,
          25.67507,
          31.30862,
          27.48642,
          20.58806,
          32.5027
         ],
         "lon": [
          -107.38782,
          -103.39182,
          -110.97732,
          -110.3005,
          -108.99808,
          -115.45446,
          -100.31847,
          -110.94217,
          -109.94083,
          -100.38806,
          -117.00371
         ],
         "marker": {
          "color": [
           5137089.39,
           9160449.37,
           7614779.06,
           6907386.52,
           1780204.64,
           4078398.93,
           10196620.94,
           1010787.91,
           1847746.82,
           3118152.88,
           12821063.27
          ],
          "colorbar": {
           "title": {
            "text": "Cantidad Vendida"
           }
          },
          "colorscale": [
           [
            0,
            "rgb(255,255,204)"
           ],
           [
            0.125,
            "rgb(255,237,160)"
           ],
           [
            0.25,
            "rgb(254,217,118)"
           ],
           [
            0.375,
            "rgb(254,178,76)"
           ],
           [
            0.5,
            "rgb(253,141,60)"
           ],
           [
            0.625,
            "rgb(252,78,42)"
           ],
           [
            0.75,
            "rgb(227,26,28)"
           ],
           [
            0.875,
            "rgb(189,0,38)"
           ],
           [
            1,
            "rgb(128,0,38)"
           ]
          ],
          "size": [
           5137089.39,
           9160449.37,
           7614779.06,
           6907386.52,
           1780204.64,
           4078398.93,
           10196620.94,
           1010787.91,
           1847746.82,
           3118152.88,
           12821063.27
          ],
          "sizemin": 4,
          "sizemode": "area",
          "sizeref": 16026.3290875
         },
         "name": "TUBERIA, AISLAMIENTO Y CONEXIONES",
         "text": [
          "CULIACAN - 5137089.39",
          "GUADALAJARA - 9160449.37",
          "HERMOSILLO - 7614779.06",
          "LA PAZ - 6907386.52",
          "LOS MOCHIS - 1780204.64",
          "MEXICALI - 4078398.93",
          "MONTERREY - 10196620.94",
          "NOGALES - 1010787.91",
          "OBREGON - 1847746.82",
          "QUERETARO - 3118152.88",
          "TIJUANA - 12821063.27"
         ],
         "type": "scattergeo",
         "visible": false
        },
        {
         "lat": [
          24.79032,
          20.66682,
          29.1026,
          24.14437,
          25.79302,
          32.62781,
          25.67507,
          31.30862,
          27.48642,
          20.58806,
          32.5027
         ],
         "lon": [
          -107.38782,
          -103.39182,
          -110.97732,
          -110.3005,
          -108.99808,
          -115.45446,
          -100.31847,
          -110.94217,
          -109.94083,
          -100.38806,
          -117.00371
         ],
         "marker": {
          "color": [
           4407109.37,
           15210387.1,
           6320361.68,
           2231127.19,
           1965184.22,
           1617349.6300000001,
           3710296.49,
           880421.8200000001,
           2214138.1,
           2936410.6,
           15719175.379999999
          ],
          "colorbar": {
           "title": {
            "text": "Cantidad Vendida"
           }
          },
          "colorscale": [
           [
            0,
            "rgb(255,255,204)"
           ],
           [
            0.125,
            "rgb(255,237,160)"
           ],
           [
            0.25,
            "rgb(254,217,118)"
           ],
           [
            0.375,
            "rgb(254,178,76)"
           ],
           [
            0.5,
            "rgb(253,141,60)"
           ],
           [
            0.625,
            "rgb(252,78,42)"
           ],
           [
            0.75,
            "rgb(227,26,28)"
           ],
           [
            0.875,
            "rgb(189,0,38)"
           ],
           [
            1,
            "rgb(128,0,38)"
           ]
          ],
          "size": [
           4407109.37,
           15210387.1,
           6320361.68,
           2231127.19,
           1965184.22,
           1617349.6300000001,
           3710296.49,
           880421.8200000001,
           2214138.1,
           2936410.6,
           15719175.379999999
          ],
          "sizemin": 4,
          "sizemode": "area",
          "sizeref": 19648.969224999997
         },
         "name": "VENTILACION Y EXTRACCION",
         "text": [
          "CULIACAN - 4407109.37",
          "GUADALAJARA - 15210387.1",
          "HERMOSILLO - 6320361.68",
          "LA PAZ - 2231127.19",
          "LOS MOCHIS - 1965184.22",
          "MEXICALI - 1617349.6300000001",
          "MONTERREY - 3710296.49",
          "NOGALES - 880421.8200000001",
          "OBREGON - 2214138.1",
          "QUERETARO - 2936410.6",
          "TIJUANA - 15719175.379999999"
         ],
         "type": "scattergeo",
         "visible": false
        }
       ],
       "layout": {
        "geo": {
         "projection": {
          "type": "natural earth"
         },
         "scope": "north america"
        },
        "height": 800,
        "showlegend": false,
        "template": {
         "data": {
          "bar": [
           {
            "error_x": {
             "color": "#2a3f5f"
            },
            "error_y": {
             "color": "#2a3f5f"
            },
            "marker": {
             "line": {
              "color": "#E5ECF6",
              "width": 0.5
             },
             "pattern": {
              "fillmode": "overlay",
              "size": 10,
              "solidity": 0.2
             }
            },
            "type": "bar"
           }
          ],
          "barpolar": [
           {
            "marker": {
             "line": {
              "color": "#E5ECF6",
              "width": 0.5
             },
             "pattern": {
              "fillmode": "overlay",
              "size": 10,
              "solidity": 0.2
             }
            },
            "type": "barpolar"
           }
          ],
          "carpet": [
           {
            "aaxis": {
             "endlinecolor": "#2a3f5f",
             "gridcolor": "white",
             "linecolor": "white",
             "minorgridcolor": "white",
             "startlinecolor": "#2a3f5f"
            },
            "baxis": {
             "endlinecolor": "#2a3f5f",
             "gridcolor": "white",
             "linecolor": "white",
             "minorgridcolor": "white",
             "startlinecolor": "#2a3f5f"
            },
            "type": "carpet"
           }
          ],
          "choropleth": [
           {
            "colorbar": {
             "outlinewidth": 0,
             "ticks": ""
            },
            "type": "choropleth"
           }
          ],
          "contour": [
           {
            "colorbar": {
             "outlinewidth": 0,
             "ticks": ""
            },
            "colorscale": [
             [
              0,
              "#0d0887"
             ],
             [
              0.1111111111111111,
              "#46039f"
             ],
             [
              0.2222222222222222,
              "#7201a8"
             ],
             [
              0.3333333333333333,
              "#9c179e"
             ],
             [
              0.4444444444444444,
              "#bd3786"
             ],
             [
              0.5555555555555556,
              "#d8576b"
             ],
             [
              0.6666666666666666,
              "#ed7953"
             ],
             [
              0.7777777777777778,
              "#fb9f3a"
             ],
             [
              0.8888888888888888,
              "#fdca26"
             ],
             [
              1,
              "#f0f921"
             ]
            ],
            "type": "contour"
           }
          ],
          "contourcarpet": [
           {
            "colorbar": {
             "outlinewidth": 0,
             "ticks": ""
            },
            "type": "contourcarpet"
           }
          ],
          "heatmap": [
           {
            "colorbar": {
             "outlinewidth": 0,
             "ticks": ""
            },
            "colorscale": [
             [
              0,
              "#0d0887"
             ],
             [
              0.1111111111111111,
              "#46039f"
             ],
             [
              0.2222222222222222,
              "#7201a8"
             ],
             [
              0.3333333333333333,
              "#9c179e"
             ],
             [
              0.4444444444444444,
              "#bd3786"
             ],
             [
              0.5555555555555556,
              "#d8576b"
             ],
             [
              0.6666666666666666,
              "#ed7953"
             ],
             [
              0.7777777777777778,
              "#fb9f3a"
             ],
             [
              0.8888888888888888,
              "#fdca26"
             ],
             [
              1,
              "#f0f921"
             ]
            ],
            "type": "heatmap"
           }
          ],
          "heatmapgl": [
           {
            "colorbar": {
             "outlinewidth": 0,
             "ticks": ""
            },
            "colorscale": [
             [
              0,
              "#0d0887"
             ],
             [
              0.1111111111111111,
              "#46039f"
             ],
             [
              0.2222222222222222,
              "#7201a8"
             ],
             [
              0.3333333333333333,
              "#9c179e"
             ],
             [
              0.4444444444444444,
              "#bd3786"
             ],
             [
              0.5555555555555556,
              "#d8576b"
             ],
             [
              0.6666666666666666,
              "#ed7953"
             ],
             [
              0.7777777777777778,
              "#fb9f3a"
             ],
             [
              0.8888888888888888,
              "#fdca26"
             ],
             [
              1,
              "#f0f921"
             ]
            ],
            "type": "heatmapgl"
           }
          ],
          "histogram": [
           {
            "marker": {
             "pattern": {
              "fillmode": "overlay",
              "size": 10,
              "solidity": 0.2
             }
            },
            "type": "histogram"
           }
          ],
          "histogram2d": [
           {
            "colorbar": {
             "outlinewidth": 0,
             "ticks": ""
            },
            "colorscale": [
             [
              0,
              "#0d0887"
             ],
             [
              0.1111111111111111,
              "#46039f"
             ],
             [
              0.2222222222222222,
              "#7201a8"
             ],
             [
              0.3333333333333333,
              "#9c179e"
             ],
             [
              0.4444444444444444,
              "#bd3786"
             ],
             [
              0.5555555555555556,
              "#d8576b"
             ],
             [
              0.6666666666666666,
              "#ed7953"
             ],
             [
              0.7777777777777778,
              "#fb9f3a"
             ],
             [
              0.8888888888888888,
              "#fdca26"
             ],
             [
              1,
              "#f0f921"
             ]
            ],
            "type": "histogram2d"
           }
          ],
          "histogram2dcontour": [
           {
            "colorbar": {
             "outlinewidth": 0,
             "ticks": ""
            },
            "colorscale": [
             [
              0,
              "#0d0887"
             ],
             [
              0.1111111111111111,
              "#46039f"
             ],
             [
              0.2222222222222222,
              "#7201a8"
             ],
             [
              0.3333333333333333,
              "#9c179e"
             ],
             [
              0.4444444444444444,
              "#bd3786"
             ],
             [
              0.5555555555555556,
              "#d8576b"
             ],
             [
              0.6666666666666666,
              "#ed7953"
             ],
             [
              0.7777777777777778,
              "#fb9f3a"
             ],
             [
              0.8888888888888888,
              "#fdca26"
             ],
             [
              1,
              "#f0f921"
             ]
            ],
            "type": "histogram2dcontour"
           }
          ],
          "mesh3d": [
           {
            "colorbar": {
             "outlinewidth": 0,
             "ticks": ""
            },
            "type": "mesh3d"
           }
          ],
          "parcoords": [
           {
            "line": {
             "colorbar": {
              "outlinewidth": 0,
              "ticks": ""
             }
            },
            "type": "parcoords"
           }
          ],
          "pie": [
           {
            "automargin": true,
            "type": "pie"
           }
          ],
          "scatter": [
           {
            "fillpattern": {
             "fillmode": "overlay",
             "size": 10,
             "solidity": 0.2
            },
            "type": "scatter"
           }
          ],
          "scatter3d": [
           {
            "line": {
             "colorbar": {
              "outlinewidth": 0,
              "ticks": ""
             }
            },
            "marker": {
             "colorbar": {
              "outlinewidth": 0,
              "ticks": ""
             }
            },
            "type": "scatter3d"
           }
          ],
          "scattercarpet": [
           {
            "marker": {
             "colorbar": {
              "outlinewidth": 0,
              "ticks": ""
             }
            },
            "type": "scattercarpet"
           }
          ],
          "scattergeo": [
           {
            "marker": {
             "colorbar": {
              "outlinewidth": 0,
              "ticks": ""
             }
            },
            "type": "scattergeo"
           }
          ],
          "scattergl": [
           {
            "marker": {
             "colorbar": {
              "outlinewidth": 0,
              "ticks": ""
             }
            },
            "type": "scattergl"
           }
          ],
          "scattermapbox": [
           {
            "marker": {
             "colorbar": {
              "outlinewidth": 0,
              "ticks": ""
             }
            },
            "type": "scattermapbox"
           }
          ],
          "scatterpolar": [
           {
            "marker": {
             "colorbar": {
              "outlinewidth": 0,
              "ticks": ""
             }
            },
            "type": "scatterpolar"
           }
          ],
          "scatterpolargl": [
           {
            "marker": {
             "colorbar": {
              "outlinewidth": 0,
              "ticks": ""
             }
            },
            "type": "scatterpolargl"
           }
          ],
          "scatterternary": [
           {
            "marker": {
             "colorbar": {
              "outlinewidth": 0,
              "ticks": ""
             }
            },
            "type": "scatterternary"
           }
          ],
          "surface": [
           {
            "colorbar": {
             "outlinewidth": 0,
             "ticks": ""
            },
            "colorscale": [
             [
              0,
              "#0d0887"
             ],
             [
              0.1111111111111111,
              "#46039f"
             ],
             [
              0.2222222222222222,
              "#7201a8"
             ],
             [
              0.3333333333333333,
              "#9c179e"
             ],
             [
              0.4444444444444444,
              "#bd3786"
             ],
             [
              0.5555555555555556,
              "#d8576b"
             ],
             [
              0.6666666666666666,
              "#ed7953"
             ],
             [
              0.7777777777777778,
              "#fb9f3a"
             ],
             [
              0.8888888888888888,
              "#fdca26"
             ],
             [
              1,
              "#f0f921"
             ]
            ],
            "type": "surface"
           }
          ],
          "table": [
           {
            "cells": {
             "fill": {
              "color": "#EBF0F8"
             },
             "line": {
              "color": "white"
             }
            },
            "header": {
             "fill": {
              "color": "#C8D4E3"
             },
             "line": {
              "color": "white"
             }
            },
            "type": "table"
           }
          ]
         },
         "layout": {
          "annotationdefaults": {
           "arrowcolor": "#2a3f5f",
           "arrowhead": 0,
           "arrowwidth": 1
          },
          "autotypenumbers": "strict",
          "coloraxis": {
           "colorbar": {
            "outlinewidth": 0,
            "ticks": ""
           }
          },
          "colorscale": {
           "diverging": [
            [
             0,
             "#8e0152"
            ],
            [
             0.1,
             "#c51b7d"
            ],
            [
             0.2,
             "#de77ae"
            ],
            [
             0.3,
             "#f1b6da"
            ],
            [
             0.4,
             "#fde0ef"
            ],
            [
             0.5,
             "#f7f7f7"
            ],
            [
             0.6,
             "#e6f5d0"
            ],
            [
             0.7,
             "#b8e186"
            ],
            [
             0.8,
             "#7fbc41"
            ],
            [
             0.9,
             "#4d9221"
            ],
            [
             1,
             "#276419"
            ]
           ],
           "sequential": [
            [
             0,
             "#0d0887"
            ],
            [
             0.1111111111111111,
             "#46039f"
            ],
            [
             0.2222222222222222,
             "#7201a8"
            ],
            [
             0.3333333333333333,
             "#9c179e"
            ],
            [
             0.4444444444444444,
             "#bd3786"
            ],
            [
             0.5555555555555556,
             "#d8576b"
            ],
            [
             0.6666666666666666,
             "#ed7953"
            ],
            [
             0.7777777777777778,
             "#fb9f3a"
            ],
            [
             0.8888888888888888,
             "#fdca26"
            ],
            [
             1,
             "#f0f921"
            ]
           ],
           "sequentialminus": [
            [
             0,
             "#0d0887"
            ],
            [
             0.1111111111111111,
             "#46039f"
            ],
            [
             0.2222222222222222,
             "#7201a8"
            ],
            [
             0.3333333333333333,
             "#9c179e"
            ],
            [
             0.4444444444444444,
             "#bd3786"
            ],
            [
             0.5555555555555556,
             "#d8576b"
            ],
            [
             0.6666666666666666,
             "#ed7953"
            ],
            [
             0.7777777777777778,
             "#fb9f3a"
            ],
            [
             0.8888888888888888,
             "#fdca26"
            ],
            [
             1,
             "#f0f921"
            ]
           ]
          },
          "colorway": [
           "#636efa",
           "#EF553B",
           "#00cc96",
           "#ab63fa",
           "#FFA15A",
           "#19d3f3",
           "#FF6692",
           "#B6E880",
           "#FF97FF",
           "#FECB52"
          ],
          "font": {
           "color": "#2a3f5f"
          },
          "geo": {
           "bgcolor": "white",
           "lakecolor": "white",
           "landcolor": "#E5ECF6",
           "showlakes": true,
           "showland": true,
           "subunitcolor": "white"
          },
          "hoverlabel": {
           "align": "left"
          },
          "hovermode": "closest",
          "mapbox": {
           "style": "light"
          },
          "paper_bgcolor": "white",
          "plot_bgcolor": "#E5ECF6",
          "polar": {
           "angularaxis": {
            "gridcolor": "white",
            "linecolor": "white",
            "ticks": ""
           },
           "bgcolor": "#E5ECF6",
           "radialaxis": {
            "gridcolor": "white",
            "linecolor": "white",
            "ticks": ""
           }
          },
          "scene": {
           "xaxis": {
            "backgroundcolor": "#E5ECF6",
            "gridcolor": "white",
            "gridwidth": 2,
            "linecolor": "white",
            "showbackground": true,
            "ticks": "",
            "zerolinecolor": "white"
           },
           "yaxis": {
            "backgroundcolor": "#E5ECF6",
            "gridcolor": "white",
            "gridwidth": 2,
            "linecolor": "white",
            "showbackground": true,
            "ticks": "",
            "zerolinecolor": "white"
           },
           "zaxis": {
            "backgroundcolor": "#E5ECF6",
            "gridcolor": "white",
            "gridwidth": 2,
            "linecolor": "white",
            "showbackground": true,
            "ticks": "",
            "zerolinecolor": "white"
           }
          },
          "shapedefaults": {
           "line": {
            "color": "#2a3f5f"
           }
          },
          "ternary": {
           "aaxis": {
            "gridcolor": "white",
            "linecolor": "white",
            "ticks": ""
           },
           "baxis": {
            "gridcolor": "white",
            "linecolor": "white",
            "ticks": ""
           },
           "bgcolor": "#E5ECF6",
           "caxis": {
            "gridcolor": "white",
            "linecolor": "white",
            "ticks": ""
           }
          },
          "title": {
           "x": 0.05
          },
          "xaxis": {
           "automargin": true,
           "gridcolor": "white",
           "linecolor": "white",
           "ticks": "",
           "title": {
            "standoff": 15
           },
           "zerolinecolor": "white",
           "zerolinewidth": 2
          },
          "yaxis": {
           "automargin": true,
           "gridcolor": "white",
           "linecolor": "white",
           "ticks": "",
           "title": {
            "standoff": 15
           },
           "zerolinecolor": "white",
           "zerolinewidth": 2
          }
         }
        },
        "title": {
         "text": "Ventas en dinero de la categoría: ACCESORIOS CICLO REF en sucursales"
        },
        "updatemenus": [
         {
          "buttons": [
           {
            "args": [
             {
              "visible": [
               true,
               false,
               false,
               false,
               false,
               false,
               false,
               false,
               false,
               false,
               false,
               false,
               false,
               false,
               false,
               false,
               false,
               false,
               false
              ]
             },
             {
              "title": "Ventas en dinero de la categoría: ACCESORIOS CICLO REF en sucursales"
             }
            ],
            "label": "ACCESORIOS CICLO REF",
            "method": "update"
           },
           {
            "args": [
             {
              "visible": [
               false,
               true,
               false,
               false,
               false,
               false,
               false,
               false,
               false,
               false,
               false,
               false,
               false,
               false,
               false,
               false,
               false,
               false,
               false
              ]
             },
             {
              "title": "Ventas en dinero de la categoría: ACCESORIOS ELECTRICOS en sucursales"
             }
            ],
            "label": "ACCESORIOS ELECTRICOS",
            "method": "update"
           },
           {
            "args": [
             {
              "visible": [
               false,
               false,
               true,
               false,
               false,
               false,
               false,
               false,
               false,
               false,
               false,
               false,
               false,
               false,
               false,
               false,
               false,
               false,
               false
              ]
             },
             {
              "title": "Ventas en dinero de la categoría: ASTROCOOL en sucursales"
             }
            ],
            "label": "ASTROCOOL",
            "method": "update"
           },
           {
            "args": [
             {
              "visible": [
               false,
               false,
               false,
               true,
               false,
               false,
               false,
               false,
               false,
               false,
               false,
               false,
               false,
               false,
               false,
               false,
               false,
               false,
               false
              ]
             },
             {
              "title": "Ventas en dinero de la categoría: COMPRESORES en sucursales"
             }
            ],
            "label": "COMPRESORES",
            "method": "update"
           },
           {
            "args": [
             {
              "visible": [
               false,
               false,
               false,
               false,
               true,
               false,
               false,
               false,
               false,
               false,
               false,
               false,
               false,
               false,
               false,
               false,
               false,
               false,
               false
              ]
             },
             {
              "title": "Ventas en dinero de la categoría: CONTROLES en sucursales"
             }
            ],
            "label": "CONTROLES",
            "method": "update"
           },
           {
            "args": [
             {
              "visible": [
               false,
               false,
               false,
               false,
               false,
               true,
               false,
               false,
               false,
               false,
               false,
               false,
               false,
               false,
               false,
               false,
               false,
               false,
               false
              ]
             },
             {
              "title": "Ventas en dinero de la categoría: EQUIPO AC en sucursales"
             }
            ],
            "label": "EQUIPO AC",
            "method": "update"
           },
           {
            "args": [
             {
              "visible": [
               false,
               false,
               false,
               false,
               false,
               false,
               true,
               false,
               false,
               false,
               false,
               false,
               false,
               false,
               false,
               false,
               false,
               false,
               false
              ]
             },
             {
              "title": "Ventas en dinero de la categoría: EQUIPOS PRE-ENFRIADO en sucursales"
             }
            ],
            "label": "EQUIPOS PRE-ENFRIADO",
            "method": "update"
           },
           {
            "args": [
             {
              "visible": [
               false,
               false,
               false,
               false,
               false,
               false,
               false,
               true,
               false,
               false,
               false,
               false,
               false,
               false,
               false,
               false,
               false,
               false,
               false
              ]
             },
             {
              "title": "Ventas en dinero de la categoría: EQUIPOS REF en sucursales"
             }
            ],
            "label": "EQUIPOS REF",
            "method": "update"
           },
           {
            "args": [
             {
              "visible": [
               false,
               false,
               false,
               false,
               false,
               false,
               false,
               false,
               true,
               false,
               false,
               false,
               false,
               false,
               false,
               false,
               false,
               false,
               false
              ]
             },
             {
              "title": "Ventas en dinero de la categoría: GASES REFRIGERANTES en sucursales"
             }
            ],
            "label": "GASES REFRIGERANTES",
            "method": "update"
           },
           {
            "args": [
             {
              "visible": [
               false,
               false,
               false,
               false,
               false,
               false,
               false,
               false,
               false,
               true,
               false,
               false,
               false,
               false,
               false,
               false,
               false,
               false,
               false
              ]
             },
             {
              "title": "Ventas en dinero de la categoría: HERRAMIENTAS E INSTRUMENTOS DE MEDICION en sucursales"
             }
            ],
            "label": "HERRAMIENTAS E INSTRUMENTOS DE MEDICION",
            "method": "update"
           },
           {
            "args": [
             {
              "visible": [
               false,
               false,
               false,
               false,
               false,
               false,
               false,
               false,
               false,
               false,
               true,
               false,
               false,
               false,
               false,
               false,
               false,
               false,
               false
              ]
             },
             {
              "title": "Ventas en dinero de la categoría: INTERCAMBIADORES DE CALOR en sucursales"
             }
            ],
            "label": "INTERCAMBIADORES DE CALOR",
            "method": "update"
           },
           {
            "args": [
             {
              "visible": [
               false,
               false,
               false,
               false,
               false,
               false,
               false,
               false,
               false,
               false,
               false,
               true,
               false,
               false,
               false,
               false,
               false,
               false,
               false
              ]
             },
             {
              "title": "Ventas en dinero de la categoría: MAT DISTRIBUCION DE AIRE en sucursales"
             }
            ],
            "label": "MAT DISTRIBUCION DE AIRE",
            "method": "update"
           },
           {
            "args": [
             {
              "visible": [
               false,
               false,
               false,
               false,
               false,
               false,
               false,
               false,
               false,
               false,
               false,
               false,
               true,
               false,
               false,
               false,
               false,
               false,
               false
              ]
             },
             {
              "title": "Ventas en dinero de la categoría: MAT INSTALACION Y SERVICIO en sucursales"
             }
            ],
            "label": "MAT INSTALACION Y SERVICIO",
            "method": "update"
           },
           {
            "args": [
             {
              "visible": [
               false,
               false,
               false,
               false,
               false,
               false,
               false,
               false,
               false,
               false,
               false,
               false,
               false,
               true,
               false,
               false,
               false,
               false,
               false
              ]
             },
             {
              "title": "Ventas en dinero de la categoría: MOTORES Y ACCESORIOS en sucursales"
             }
            ],
            "label": "MOTORES Y ACCESORIOS",
            "method": "update"
           },
           {
            "args": [
             {
              "visible": [
               false,
               false,
               false,
               false,
               false,
               false,
               false,
               false,
               false,
               false,
               false,
               false,
               false,
               false,
               true,
               false,
               false,
               false,
               false
              ]
             },
             {
              "title": "Ventas en dinero de la categoría: QUIMICOS Y SOLVENTES en sucursales"
             }
            ],
            "label": "QUIMICOS Y SOLVENTES",
            "method": "update"
           },
           {
            "args": [
             {
              "visible": [
               false,
               false,
               false,
               false,
               false,
               false,
               false,
               false,
               false,
               false,
               false,
               false,
               false,
               false,
               false,
               true,
               false,
               false,
               false
              ]
             },
             {
              "title": "Ventas en dinero de la categoría: REFACC FUERA CATALOGO en sucursales"
             }
            ],
            "label": "REFACC FUERA CATALOGO",
            "method": "update"
           },
           {
            "args": [
             {
              "visible": [
               false,
               false,
               false,
               false,
               false,
               false,
               false,
               false,
               false,
               false,
               false,
               false,
               false,
               false,
               false,
               false,
               true,
               false,
               false
              ]
             },
             {
              "title": "Ventas en dinero de la categoría: REFACC ORIGINALES en sucursales"
             }
            ],
            "label": "REFACC ORIGINALES",
            "method": "update"
           },
           {
            "args": [
             {
              "visible": [
               false,
               false,
               false,
               false,
               false,
               false,
               false,
               false,
               false,
               false,
               false,
               false,
               false,
               false,
               false,
               false,
               false,
               true,
               false
              ]
             },
             {
              "title": "Ventas en dinero de la categoría: TUBERIA, AISLAMIENTO Y CONEXIONES en sucursales"
             }
            ],
            "label": "TUBERIA, AISLAMIENTO Y CONEXIONES",
            "method": "update"
           },
           {
            "args": [
             {
              "visible": [
               false,
               false,
               false,
               false,
               false,
               false,
               false,
               false,
               false,
               false,
               false,
               false,
               false,
               false,
               false,
               false,
               false,
               false,
               true
              ]
             },
             {
              "title": "Ventas en dinero de la categoría: VENTILACION Y EXTRACCION en sucursales"
             }
            ],
            "label": "VENTILACION Y EXTRACCION",
            "method": "update"
           }
          ],
          "direction": "down",
          "pad": {
           "r": 10,
           "t": 10
          },
          "showactive": true,
          "x": 0.1,
          "xanchor": "right",
          "y": 1,
          "yanchor": "top"
         }
        ],
        "width": 1800
       }
      }
     },
     "metadata": {},
     "output_type": "display_data"
    }
   ],
   "source": [
    "# group the data by city and category, adding the amounts\n",
    "df_agrupado = df_ventas.groupby(['SUCURSAL', 'SubC', 'latitud', 'longitud'])['COSTO'].sum().reset_index()\n",
    "\n",
    "# get a list of unique categories and sort them alphabetically\n",
    "categorias = sorted(df_agrupado['SubC'].unique())\n",
    "categoria_inicial = categorias[0]  # first category\n",
    "\n",
    "# create a figure with a graph for each category\n",
    "fig = go.Figure()\n",
    "\n",
    "for categoria in categorias:\n",
    "    df_filtrado = df_agrupado[df_agrupado['SubC'] == categoria]\n",
    "    visible = (categoria == categoria_inicial)  # Solo la primera categoría es visible al inicio\n",
    "    fig.add_trace(\n",
    "        go.Scattergeo(\n",
    "            lat=df_filtrado['latitud'],\n",
    "            lon=df_filtrado['longitud'],\n",
    "            text=df_filtrado['SUCURSAL'] + ' - ' + df_filtrado['COSTO'].astype(str),\n",
    "            marker=dict(\n",
    "                size=df_filtrado['COSTO'],\n",
    "                sizemode='area',\n",
    "                sizeref=2.*max(df_filtrado['COSTO'])/(40.**2),\n",
    "                sizemin=4,\n",
    "                color=df_filtrado['COSTO'],\n",
    "                colorscale='YlOrRd',\n",
    "                colorbar_title='Cantidad Vendida',\n",
    "            ),\n",
    "            visible=visible,\n",
    "            name=categoria\n",
    "        )\n",
    "    )\n",
    "\n",
    "# set the initial title to reflect the first category\n",
    "fig.update_layout(\n",
    "    title=f'Ventas en dinero de la categoría: {categoria_inicial} en sucursales',\n",
    "    width=1800,\n",
    "    height=800,\n",
    "    showlegend=False,\n",
    "    geo=dict(\n",
    "        scope='north america',\n",
    "        projection_type='natural earth'\n",
    "    ),\n",
    "    updatemenus=[{\n",
    "        \"buttons\": [\n",
    "            dict(\n",
    "                label=categoria,\n",
    "                method=\"update\",\n",
    "                args=[{\"visible\": [categoria == cat for cat in categorias]},\n",
    "                      {\"title\": f\"Ventas en dinero de la categoría: {categoria} en sucursales\"}]\n",
    "            ) for categoria in categorias\n",
    "        ],\n",
    "        \"direction\": \"down\",\n",
    "        \"pad\": {\"r\": 10, \"t\": 10},\n",
    "        \"showactive\": True,\n",
    "        \"x\": 0.1,\n",
    "        \"xanchor\": \"right\",\n",
    "        \"y\": 1.0,\n",
    "        \"yanchor\": \"top\"\n",
    "    }]\n",
    ")\n",
    "\n",
    "# show the map\n",
    "fig.show()\n"
   ]
  },
  {
   "cell_type": "code",
   "execution_count": 13,
   "metadata": {},
   "outputs": [],
   "source": [
    "fig.write_html(\"C:/Users/Alejandro Verdugo/Desktop/ventas_cat.html\")"
   ]
  },
  {
   "cell_type": "code",
   "execution_count": null,
   "metadata": {},
   "outputs": [],
   "source": [
    "# En caso de querer subir los graficos a la plataforma de plotly chart studio, el codigo es el siguiente:\n",
    "# pip install chart-studio\n",
    "\n",
    "# Luego, necesitarás configurar Chart Studio con tu nombre de usuario y API key de Plotly. Puedes obtener una API key registrándote o iniciando sesión en Plotly Chart Studio.\n",
    "\n",
    "import chart_studio\n",
    "import chart_studio.plotly as py\n",
    "\n",
    "chart_studio.tools.set_credentials_file(username='TuNombreDeUsuario', api_key='TuAPIKey')\n",
    "\n",
    "# Asumiendo que 'fig' es tu objeto de figura de Plotly\n",
    "url = py.plot(fig, filename='mi_mapa_interactivo', auto_open=True)\n",
    "print(url)\n",
    "\n",
    "# Ten en cuenta que Plotly Chart Studio ofrece un plan gratuito con ciertas limitaciones, como el número de vistas y el tamaño de los datos. Si tus necesidades exceden estas limitaciones, podrías considerar sus opciones de suscripción."
   ]
  }
 ],
 "metadata": {
  "kernelspec": {
   "display_name": "base",
   "language": "python",
   "name": "python3"
  },
  "language_info": {
   "codemirror_mode": {
    "name": "ipython",
    "version": 3
   },
   "file_extension": ".py",
   "mimetype": "text/x-python",
   "name": "python",
   "nbconvert_exporter": "python",
   "pygments_lexer": "ipython3",
   "version": "3.10.12"
  }
 },
 "nbformat": 4,
 "nbformat_minor": 2
}
