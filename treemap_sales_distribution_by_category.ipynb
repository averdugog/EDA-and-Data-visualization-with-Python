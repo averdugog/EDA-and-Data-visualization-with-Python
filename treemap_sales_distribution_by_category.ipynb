{
 "cells": [
  {
   "cell_type": "code",
   "execution_count": 1,
   "metadata": {},
   "outputs": [],
   "source": [
    "# import libraries\n",
    "import pandas as pd\n",
    "import numpy as np\n",
    "import math\n",
    "import plotly.express as px"
   ]
  },
  {
   "cell_type": "code",
   "execution_count": 2,
   "metadata": {},
   "outputs": [],
   "source": [
    "# load the dataframe\n",
    "complete_sales_2022 = pd.read_csv('Ventas_2022.csv', low_memory=False)"
   ]
  },
  {
   "cell_type": "code",
   "execution_count": 3,
   "metadata": {},
   "outputs": [
    {
     "data": {
      "text/html": [
       "<div>\n",
       "<style scoped>\n",
       "    .dataframe tbody tr th:only-of-type {\n",
       "        vertical-align: middle;\n",
       "    }\n",
       "\n",
       "    .dataframe tbody tr th {\n",
       "        vertical-align: top;\n",
       "    }\n",
       "\n",
       "    .dataframe thead th {\n",
       "        text-align: right;\n",
       "    }\n",
       "</style>\n",
       "<table border=\"1\" class=\"dataframe\">\n",
       "  <thead>\n",
       "    <tr style=\"text-align: right;\">\n",
       "      <th></th>\n",
       "      <th>Linea P</th>\n",
       "      <th>referencia</th>\n",
       "      <th>cantidad</th>\n",
       "      <th>COSTO</th>\n",
       "      <th>COSTO UNITARIO</th>\n",
       "      <th>SUCURSAL</th>\n",
       "      <th>FECHA</th>\n",
       "      <th>MES</th>\n",
       "      <th>Pe o Stock</th>\n",
       "      <th>TIPO DE DOCUMENTO</th>\n",
       "      <th>SubC</th>\n",
       "    </tr>\n",
       "  </thead>\n",
       "  <tbody>\n",
       "    <tr>\n",
       "      <th>0</th>\n",
       "      <td>AC</td>\n",
       "      <td>INT-IFCH412KF3</td>\n",
       "      <td>4</td>\n",
       "      <td>40173.18</td>\n",
       "      <td>$10,043.30</td>\n",
       "      <td>TYP LA PAZ</td>\n",
       "      <td>25/08/2022 00:00</td>\n",
       "      <td>8</td>\n",
       "      <td>Stock</td>\n",
       "      <td>FACTURA</td>\n",
       "      <td>EQUIPO AC</td>\n",
       "    </tr>\n",
       "    <tr>\n",
       "      <th>1</th>\n",
       "      <td>AC</td>\n",
       "      <td>INT-IFCH416KF3</td>\n",
       "      <td>1</td>\n",
       "      <td>11386.41</td>\n",
       "      <td>$11,386.41</td>\n",
       "      <td>TYP GUADALAJARA</td>\n",
       "      <td>31/10/2022 00:00</td>\n",
       "      <td>10</td>\n",
       "      <td>Stock</td>\n",
       "      <td>FACTURA</td>\n",
       "      <td>EQUIPO AC</td>\n",
       "    </tr>\n",
       "    <tr>\n",
       "      <th>2</th>\n",
       "      <td>AC</td>\n",
       "      <td>INT-IAHWH12KF5</td>\n",
       "      <td>1</td>\n",
       "      <td>57353.04</td>\n",
       "      <td>$57,353.04</td>\n",
       "      <td>TYP LOS MOCHIS</td>\n",
       "      <td>20/09/2022 00:00</td>\n",
       "      <td>9</td>\n",
       "      <td>Stock</td>\n",
       "      <td>FACTURA</td>\n",
       "      <td>EQUIPO AC</td>\n",
       "    </tr>\n",
       "    <tr>\n",
       "      <th>3</th>\n",
       "      <td>AC</td>\n",
       "      <td>INT-ICHS120KC5</td>\n",
       "      <td>1</td>\n",
       "      <td>164868.39</td>\n",
       "      <td>$164,868.39</td>\n",
       "      <td>TYP MEXICALI</td>\n",
       "      <td>15/11/2022 00:00</td>\n",
       "      <td>11</td>\n",
       "      <td>Pe</td>\n",
       "      <td>FACTURA</td>\n",
       "      <td>EQUIPO AC</td>\n",
       "    </tr>\n",
       "    <tr>\n",
       "      <th>4</th>\n",
       "      <td>AC</td>\n",
       "      <td>INT-IFCH406KF1</td>\n",
       "      <td>1</td>\n",
       "      <td>5011.62</td>\n",
       "      <td>$5,011.62</td>\n",
       "      <td>TYP QUERETARO</td>\n",
       "      <td>29/08/2022 00:00</td>\n",
       "      <td>8</td>\n",
       "      <td>Stock</td>\n",
       "      <td>FACTURA</td>\n",
       "      <td>EQUIPO AC</td>\n",
       "    </tr>\n",
       "    <tr>\n",
       "      <th>...</th>\n",
       "      <td>...</td>\n",
       "      <td>...</td>\n",
       "      <td>...</td>\n",
       "      <td>...</td>\n",
       "      <td>...</td>\n",
       "      <td>...</td>\n",
       "      <td>...</td>\n",
       "      <td>...</td>\n",
       "      <td>...</td>\n",
       "      <td>...</td>\n",
       "      <td>...</td>\n",
       "    </tr>\n",
       "    <tr>\n",
       "      <th>273874</th>\n",
       "      <td>REFACCIONES</td>\n",
       "      <td>ETA-SILVALOY15PZ</td>\n",
       "      <td>4</td>\n",
       "      <td>202.50</td>\n",
       "      <td>$50.63</td>\n",
       "      <td>TYP TIJUANA</td>\n",
       "      <td>11/04/2022 00:00</td>\n",
       "      <td>4</td>\n",
       "      <td>Stock</td>\n",
       "      <td>FACTURA</td>\n",
       "      <td>QUIMICOS Y SOLVENTES</td>\n",
       "    </tr>\n",
       "    <tr>\n",
       "      <th>273875</th>\n",
       "      <td>REFACCIONES</td>\n",
       "      <td>NC-416675</td>\n",
       "      <td>6</td>\n",
       "      <td>474.92</td>\n",
       "      <td>$79.15</td>\n",
       "      <td>TYP TIJUANA</td>\n",
       "      <td>19/04/2022 00:00</td>\n",
       "      <td>4</td>\n",
       "      <td>Stock</td>\n",
       "      <td>FACTURA</td>\n",
       "      <td>QUIMICOS Y SOLVENTES</td>\n",
       "    </tr>\n",
       "    <tr>\n",
       "      <th>273876</th>\n",
       "      <td>REFACCIONES</td>\n",
       "      <td>HAR-SILVALOY15T</td>\n",
       "      <td>2</td>\n",
       "      <td>2753.43</td>\n",
       "      <td>$1,376.72</td>\n",
       "      <td>TYP TIJUANA</td>\n",
       "      <td>02/05/2022 00:00</td>\n",
       "      <td>5</td>\n",
       "      <td>Stock</td>\n",
       "      <td>FACTURA</td>\n",
       "      <td>QUIMICOS Y SOLVENTES</td>\n",
       "    </tr>\n",
       "    <tr>\n",
       "      <th>273877</th>\n",
       "      <td>REFACCIONES</td>\n",
       "      <td>HAR-SILVALOY15T</td>\n",
       "      <td>2</td>\n",
       "      <td>2753.43</td>\n",
       "      <td>$1,376.72</td>\n",
       "      <td>TYP TIJUANA</td>\n",
       "      <td>03/05/2022 00:00</td>\n",
       "      <td>5</td>\n",
       "      <td>Stock</td>\n",
       "      <td>FACTURA</td>\n",
       "      <td>QUIMICOS Y SOLVENTES</td>\n",
       "    </tr>\n",
       "    <tr>\n",
       "      <th>273878</th>\n",
       "      <td>REFACCIONES</td>\n",
       "      <td>ETA-SILVALOY15PZ</td>\n",
       "      <td>1</td>\n",
       "      <td>49.96</td>\n",
       "      <td>$49.96</td>\n",
       "      <td>TYP TIJUANA</td>\n",
       "      <td>31/05/2022 00:00</td>\n",
       "      <td>5</td>\n",
       "      <td>Stock</td>\n",
       "      <td>FACTURA</td>\n",
       "      <td>QUIMICOS Y SOLVENTES</td>\n",
       "    </tr>\n",
       "  </tbody>\n",
       "</table>\n",
       "<p>273879 rows × 11 columns</p>\n",
       "</div>"
      ],
      "text/plain": [
       "            Linea P        referencia  cantidad      COSTO COSTO UNITARIO  \\\n",
       "0                AC    INT-IFCH412KF3         4   40173.18     $10,043.30   \n",
       "1                AC    INT-IFCH416KF3         1   11386.41     $11,386.41   \n",
       "2                AC    INT-IAHWH12KF5         1   57353.04     $57,353.04   \n",
       "3                AC    INT-ICHS120KC5         1  164868.39    $164,868.39   \n",
       "4                AC    INT-IFCH406KF1         1    5011.62      $5,011.62   \n",
       "...             ...               ...       ...        ...            ...   \n",
       "273874  REFACCIONES  ETA-SILVALOY15PZ         4     202.50         $50.63   \n",
       "273875  REFACCIONES         NC-416675         6     474.92         $79.15   \n",
       "273876  REFACCIONES   HAR-SILVALOY15T         2    2753.43      $1,376.72   \n",
       "273877  REFACCIONES   HAR-SILVALOY15T         2    2753.43      $1,376.72   \n",
       "273878  REFACCIONES  ETA-SILVALOY15PZ         1      49.96         $49.96   \n",
       "\n",
       "               SUCURSAL             FECHA  MES Pe o Stock TIPO DE DOCUMENTO  \\\n",
       "0            TYP LA PAZ  25/08/2022 00:00    8      Stock           FACTURA   \n",
       "1       TYP GUADALAJARA  31/10/2022 00:00   10      Stock           FACTURA   \n",
       "2        TYP LOS MOCHIS  20/09/2022 00:00    9      Stock           FACTURA   \n",
       "3          TYP MEXICALI  15/11/2022 00:00   11         Pe           FACTURA   \n",
       "4         TYP QUERETARO  29/08/2022 00:00    8      Stock           FACTURA   \n",
       "...                 ...               ...  ...        ...               ...   \n",
       "273874      TYP TIJUANA  11/04/2022 00:00    4      Stock           FACTURA   \n",
       "273875      TYP TIJUANA  19/04/2022 00:00    4      Stock           FACTURA   \n",
       "273876      TYP TIJUANA  02/05/2022 00:00    5      Stock           FACTURA   \n",
       "273877      TYP TIJUANA  03/05/2022 00:00    5      Stock           FACTURA   \n",
       "273878      TYP TIJUANA  31/05/2022 00:00    5      Stock           FACTURA   \n",
       "\n",
       "                        SubC  \n",
       "0                  EQUIPO AC  \n",
       "1                  EQUIPO AC  \n",
       "2                  EQUIPO AC  \n",
       "3                  EQUIPO AC  \n",
       "4                  EQUIPO AC  \n",
       "...                      ...  \n",
       "273874  QUIMICOS Y SOLVENTES  \n",
       "273875  QUIMICOS Y SOLVENTES  \n",
       "273876  QUIMICOS Y SOLVENTES  \n",
       "273877  QUIMICOS Y SOLVENTES  \n",
       "273878  QUIMICOS Y SOLVENTES  \n",
       "\n",
       "[273879 rows x 11 columns]"
      ]
     },
     "execution_count": 3,
     "metadata": {},
     "output_type": "execute_result"
    }
   ],
   "source": [
    "# rename columns\n",
    "sales_columns = complete_sales_2022[['Linea P', 'REFERENCIA INTERNA', 'CANTIDAD', 'COSTO', 'COSTO UNITARIO', 'SUCURSAL', 'FECHA', 'MES', 'Pe o Stock', 'TIPO DE DOCUMENTO', 'SubC']].rename(columns={'REFERENCIA INTERNA':'referencia', 'CANTIDAD':'cantidad'})\n",
    "\n",
    "# replace special characters\n",
    "sales_columns['COSTO'] = sales_columns['COSTO'].str.replace(\"$\", \"\", regex=True)\n",
    "sales_columns['COSTO'] = sales_columns['COSTO'].str.replace(\",\", \"\", regex=True).astype(float)\n",
    "sales_columns"
   ]
  },
  {
   "cell_type": "code",
   "execution_count": 4,
   "metadata": {},
   "outputs": [
    {
     "data": {
      "application/vnd.plotly.v1+json": {
       "config": {
        "plotlyServerURL": "https://plot.ly"
       },
       "data": [
        {
         "branchvalues": "total",
         "domain": {
          "x": [
           0,
           1
          ],
          "y": [
           0,
           1
          ]
         },
         "hovertemplate": "labels=%{label}<br>COSTO=%{value}<br>parent=%{parent}<br>id=%{id}<extra></extra>",
         "ids": [
          "TYP CULIACAN/ACCESORIOS CICLO REF",
          "TYP GUADALAJARA/ACCESORIOS CICLO REF",
          "TYP HERMOSILLO/ACCESORIOS CICLO REF",
          "TYP LA PAZ/ACCESORIOS CICLO REF",
          "TYP LOS MOCHIS/ACCESORIOS CICLO REF",
          "TYP MEXICALI/ACCESORIOS CICLO REF",
          "TYP MONTERREY/ACCESORIOS CICLO REF",
          "TYP NOGALES/ACCESORIOS CICLO REF",
          "TYP OBREGON/ACCESORIOS CICLO REF",
          "TYP QUERETARO/ACCESORIOS CICLO REF",
          "TYP TIJUANA/ACCESORIOS CICLO REF",
          "TYP CULIACAN/ACCESORIOS ELECTRICOS",
          "TYP GUADALAJARA/ACCESORIOS ELECTRICOS",
          "TYP HERMOSILLO/ACCESORIOS ELECTRICOS",
          "TYP LA PAZ/ACCESORIOS ELECTRICOS",
          "TYP LOS MOCHIS/ACCESORIOS ELECTRICOS",
          "TYP MEXICALI/ACCESORIOS ELECTRICOS",
          "TYP MONTERREY/ACCESORIOS ELECTRICOS",
          "TYP NOGALES/ACCESORIOS ELECTRICOS",
          "TYP OBREGON/ACCESORIOS ELECTRICOS",
          "TYP QUERETARO/ACCESORIOS ELECTRICOS",
          "TYP TIJUANA/ACCESORIOS ELECTRICOS",
          "TYP CULIACAN/COMPRESORES",
          "TYP GUADALAJARA/COMPRESORES",
          "TYP HERMOSILLO/COMPRESORES",
          "TYP LA PAZ/COMPRESORES",
          "TYP LOS MOCHIS/COMPRESORES",
          "TYP MEXICALI/COMPRESORES",
          "TYP MONTERREY/COMPRESORES",
          "TYP NOGALES/COMPRESORES",
          "TYP OBREGON/COMPRESORES",
          "TYP QUERETARO/COMPRESORES",
          "TYP TIJUANA/COMPRESORES",
          "TYP CULIACAN/GASES REFRIGERANTES",
          "TYP GUADALAJARA/GASES REFRIGERANTES",
          "TYP HERMOSILLO/GASES REFRIGERANTES",
          "TYP LA PAZ/GASES REFRIGERANTES",
          "TYP LOS MOCHIS/GASES REFRIGERANTES",
          "TYP MEXICALI/GASES REFRIGERANTES",
          "TYP MONTERREY/GASES REFRIGERANTES",
          "TYP NOGALES/GASES REFRIGERANTES",
          "TYP OBREGON/GASES REFRIGERANTES",
          "TYP QUERETARO/GASES REFRIGERANTES",
          "TYP TIJUANA/GASES REFRIGERANTES",
          "TYP CULIACAN/HERRAMIENTAS E INSTRUMENTOS DE MEDICION",
          "TYP GUADALAJARA/HERRAMIENTAS E INSTRUMENTOS DE MEDICION",
          "TYP HERMOSILLO/HERRAMIENTAS E INSTRUMENTOS DE MEDICION",
          "TYP LA PAZ/HERRAMIENTAS E INSTRUMENTOS DE MEDICION",
          "TYP LOS MOCHIS/HERRAMIENTAS E INSTRUMENTOS DE MEDICION",
          "TYP MEXICALI/HERRAMIENTAS E INSTRUMENTOS DE MEDICION",
          "TYP MONTERREY/HERRAMIENTAS E INSTRUMENTOS DE MEDICION",
          "TYP NOGALES/HERRAMIENTAS E INSTRUMENTOS DE MEDICION",
          "TYP OBREGON/HERRAMIENTAS E INSTRUMENTOS DE MEDICION",
          "TYP QUERETARO/HERRAMIENTAS E INSTRUMENTOS DE MEDICION",
          "TYP TIJUANA/HERRAMIENTAS E INSTRUMENTOS DE MEDICION",
          "TYP CULIACAN/MOTORES Y ACCESORIOS",
          "TYP GUADALAJARA/MOTORES Y ACCESORIOS",
          "TYP HERMOSILLO/MOTORES Y ACCESORIOS",
          "TYP LA PAZ/MOTORES Y ACCESORIOS",
          "TYP LOS MOCHIS/MOTORES Y ACCESORIOS",
          "TYP MEXICALI/MOTORES Y ACCESORIOS",
          "TYP MONTERREY/MOTORES Y ACCESORIOS",
          "TYP NOGALES/MOTORES Y ACCESORIOS",
          "TYP OBREGON/MOTORES Y ACCESORIOS",
          "TYP QUERETARO/MOTORES Y ACCESORIOS",
          "TYP TIJUANA/MOTORES Y ACCESORIOS",
          "TYP CULIACAN/QUIMICOS Y SOLVENTES",
          "TYP GUADALAJARA/QUIMICOS Y SOLVENTES",
          "TYP HERMOSILLO/QUIMICOS Y SOLVENTES",
          "TYP LA PAZ/QUIMICOS Y SOLVENTES",
          "TYP LOS MOCHIS/QUIMICOS Y SOLVENTES",
          "TYP MEXICALI/QUIMICOS Y SOLVENTES",
          "TYP MONTERREY/QUIMICOS Y SOLVENTES",
          "TYP NOGALES/QUIMICOS Y SOLVENTES",
          "TYP OBREGON/QUIMICOS Y SOLVENTES",
          "TYP QUERETARO/QUIMICOS Y SOLVENTES",
          "TYP TIJUANA/QUIMICOS Y SOLVENTES",
          "TYP CULIACAN/REFACC FUERA CATALOGO",
          "TYP GUADALAJARA/REFACC FUERA CATALOGO",
          "TYP MEXICALI/REFACC FUERA CATALOGO",
          "TYP MONTERREY/REFACC FUERA CATALOGO",
          "TYP OBREGON/REFACC FUERA CATALOGO",
          "TYP TIJUANA/REFACC FUERA CATALOGO",
          "TYP CULIACAN/REFACC ORIGINALES",
          "TYP GUADALAJARA/REFACC ORIGINALES",
          "TYP HERMOSILLO/REFACC ORIGINALES",
          "TYP LA PAZ/REFACC ORIGINALES",
          "TYP LOS MOCHIS/REFACC ORIGINALES",
          "TYP MEXICALI/REFACC ORIGINALES",
          "TYP MONTERREY/REFACC ORIGINALES",
          "TYP NOGALES/REFACC ORIGINALES",
          "TYP OBREGON/REFACC ORIGINALES",
          "TYP QUERETARO/REFACC ORIGINALES",
          "TYP TIJUANA/REFACC ORIGINALES",
          "TYP CULIACAN",
          "TYP GUADALAJARA",
          "TYP HERMOSILLO",
          "TYP LA PAZ",
          "TYP LOS MOCHIS",
          "TYP MEXICALI",
          "TYP MONTERREY",
          "TYP NOGALES",
          "TYP OBREGON",
          "TYP QUERETARO",
          "TYP TIJUANA"
         ],
         "labels": [
          "ACCESORIOS CICLO REF",
          "ACCESORIOS CICLO REF",
          "ACCESORIOS CICLO REF",
          "ACCESORIOS CICLO REF",
          "ACCESORIOS CICLO REF",
          "ACCESORIOS CICLO REF",
          "ACCESORIOS CICLO REF",
          "ACCESORIOS CICLO REF",
          "ACCESORIOS CICLO REF",
          "ACCESORIOS CICLO REF",
          "ACCESORIOS CICLO REF",
          "ACCESORIOS ELECTRICOS",
          "ACCESORIOS ELECTRICOS",
          "ACCESORIOS ELECTRICOS",
          "ACCESORIOS ELECTRICOS",
          "ACCESORIOS ELECTRICOS",
          "ACCESORIOS ELECTRICOS",
          "ACCESORIOS ELECTRICOS",
          "ACCESORIOS ELECTRICOS",
          "ACCESORIOS ELECTRICOS",
          "ACCESORIOS ELECTRICOS",
          "ACCESORIOS ELECTRICOS",
          "COMPRESORES",
          "COMPRESORES",
          "COMPRESORES",
          "COMPRESORES",
          "COMPRESORES",
          "COMPRESORES",
          "COMPRESORES",
          "COMPRESORES",
          "COMPRESORES",
          "COMPRESORES",
          "COMPRESORES",
          "GASES REFRIGERANTES",
          "GASES REFRIGERANTES",
          "GASES REFRIGERANTES",
          "GASES REFRIGERANTES",
          "GASES REFRIGERANTES",
          "GASES REFRIGERANTES",
          "GASES REFRIGERANTES",
          "GASES REFRIGERANTES",
          "GASES REFRIGERANTES",
          "GASES REFRIGERANTES",
          "GASES REFRIGERANTES",
          "HERRAMIENTAS E INSTRUMENTOS DE MEDICION",
          "HERRAMIENTAS E INSTRUMENTOS DE MEDICION",
          "HERRAMIENTAS E INSTRUMENTOS DE MEDICION",
          "HERRAMIENTAS E INSTRUMENTOS DE MEDICION",
          "HERRAMIENTAS E INSTRUMENTOS DE MEDICION",
          "HERRAMIENTAS E INSTRUMENTOS DE MEDICION",
          "HERRAMIENTAS E INSTRUMENTOS DE MEDICION",
          "HERRAMIENTAS E INSTRUMENTOS DE MEDICION",
          "HERRAMIENTAS E INSTRUMENTOS DE MEDICION",
          "HERRAMIENTAS E INSTRUMENTOS DE MEDICION",
          "HERRAMIENTAS E INSTRUMENTOS DE MEDICION",
          "MOTORES Y ACCESORIOS",
          "MOTORES Y ACCESORIOS",
          "MOTORES Y ACCESORIOS",
          "MOTORES Y ACCESORIOS",
          "MOTORES Y ACCESORIOS",
          "MOTORES Y ACCESORIOS",
          "MOTORES Y ACCESORIOS",
          "MOTORES Y ACCESORIOS",
          "MOTORES Y ACCESORIOS",
          "MOTORES Y ACCESORIOS",
          "MOTORES Y ACCESORIOS",
          "QUIMICOS Y SOLVENTES",
          "QUIMICOS Y SOLVENTES",
          "QUIMICOS Y SOLVENTES",
          "QUIMICOS Y SOLVENTES",
          "QUIMICOS Y SOLVENTES",
          "QUIMICOS Y SOLVENTES",
          "QUIMICOS Y SOLVENTES",
          "QUIMICOS Y SOLVENTES",
          "QUIMICOS Y SOLVENTES",
          "QUIMICOS Y SOLVENTES",
          "QUIMICOS Y SOLVENTES",
          "REFACC FUERA CATALOGO",
          "REFACC FUERA CATALOGO",
          "REFACC FUERA CATALOGO",
          "REFACC FUERA CATALOGO",
          "REFACC FUERA CATALOGO",
          "REFACC FUERA CATALOGO",
          "REFACC ORIGINALES",
          "REFACC ORIGINALES",
          "REFACC ORIGINALES",
          "REFACC ORIGINALES",
          "REFACC ORIGINALES",
          "REFACC ORIGINALES",
          "REFACC ORIGINALES",
          "REFACC ORIGINALES",
          "REFACC ORIGINALES",
          "REFACC ORIGINALES",
          "REFACC ORIGINALES",
          "TYP CULIACAN",
          "TYP GUADALAJARA",
          "TYP HERMOSILLO",
          "TYP LA PAZ",
          "TYP LOS MOCHIS",
          "TYP MEXICALI",
          "TYP MONTERREY",
          "TYP NOGALES",
          "TYP OBREGON",
          "TYP QUERETARO",
          "TYP TIJUANA"
         ],
         "name": "",
         "parents": [
          "TYP CULIACAN",
          "TYP GUADALAJARA",
          "TYP HERMOSILLO",
          "TYP LA PAZ",
          "TYP LOS MOCHIS",
          "TYP MEXICALI",
          "TYP MONTERREY",
          "TYP NOGALES",
          "TYP OBREGON",
          "TYP QUERETARO",
          "TYP TIJUANA",
          "TYP CULIACAN",
          "TYP GUADALAJARA",
          "TYP HERMOSILLO",
          "TYP LA PAZ",
          "TYP LOS MOCHIS",
          "TYP MEXICALI",
          "TYP MONTERREY",
          "TYP NOGALES",
          "TYP OBREGON",
          "TYP QUERETARO",
          "TYP TIJUANA",
          "TYP CULIACAN",
          "TYP GUADALAJARA",
          "TYP HERMOSILLO",
          "TYP LA PAZ",
          "TYP LOS MOCHIS",
          "TYP MEXICALI",
          "TYP MONTERREY",
          "TYP NOGALES",
          "TYP OBREGON",
          "TYP QUERETARO",
          "TYP TIJUANA",
          "TYP CULIACAN",
          "TYP GUADALAJARA",
          "TYP HERMOSILLO",
          "TYP LA PAZ",
          "TYP LOS MOCHIS",
          "TYP MEXICALI",
          "TYP MONTERREY",
          "TYP NOGALES",
          "TYP OBREGON",
          "TYP QUERETARO",
          "TYP TIJUANA",
          "TYP CULIACAN",
          "TYP GUADALAJARA",
          "TYP HERMOSILLO",
          "TYP LA PAZ",
          "TYP LOS MOCHIS",
          "TYP MEXICALI",
          "TYP MONTERREY",
          "TYP NOGALES",
          "TYP OBREGON",
          "TYP QUERETARO",
          "TYP TIJUANA",
          "TYP CULIACAN",
          "TYP GUADALAJARA",
          "TYP HERMOSILLO",
          "TYP LA PAZ",
          "TYP LOS MOCHIS",
          "TYP MEXICALI",
          "TYP MONTERREY",
          "TYP NOGALES",
          "TYP OBREGON",
          "TYP QUERETARO",
          "TYP TIJUANA",
          "TYP CULIACAN",
          "TYP GUADALAJARA",
          "TYP HERMOSILLO",
          "TYP LA PAZ",
          "TYP LOS MOCHIS",
          "TYP MEXICALI",
          "TYP MONTERREY",
          "TYP NOGALES",
          "TYP OBREGON",
          "TYP QUERETARO",
          "TYP TIJUANA",
          "TYP CULIACAN",
          "TYP GUADALAJARA",
          "TYP MEXICALI",
          "TYP MONTERREY",
          "TYP OBREGON",
          "TYP TIJUANA",
          "TYP CULIACAN",
          "TYP GUADALAJARA",
          "TYP HERMOSILLO",
          "TYP LA PAZ",
          "TYP LOS MOCHIS",
          "TYP MEXICALI",
          "TYP MONTERREY",
          "TYP NOGALES",
          "TYP OBREGON",
          "TYP QUERETARO",
          "TYP TIJUANA",
          "",
          "",
          "",
          "",
          "",
          "",
          "",
          "",
          "",
          "",
          ""
         ],
         "type": "treemap",
         "values": [
          1259474.65,
          1147267.02,
          2520384.75,
          1219867.34,
          725584.28,
          1384054.68,
          462875.68,
          911054.05,
          1345988.83,
          494883.7,
          3028361.39,
          845043.13,
          965700.43,
          2146846.7,
          559821.48,
          517205.8,
          615977.76,
          188659.31,
          539634.52,
          938221.33,
          579331.84,
          1327328.4,
          3297493.8,
          5130320.11,
          5843553.3,
          2127021.71,
          1112937.79,
          3799437.73,
          2050467.8699999999,
          2841955.7,
          2677132.65,
          1620438.09,
          7830652.76,
          5206953.35,
          4691292.26,
          7157847.59,
          3003374.73,
          4503092.54,
          6306688.61,
          2203528.88,
          15063916.44,
          5386363.72,
          2496186.5,
          16614668.72,
          1017977.38,
          1433155.05,
          1996479.06,
          985580.78,
          607534.81,
          1252348.31,
          653984.37,
          717714.05,
          807271.61,
          529191.23,
          2496945.52,
          1241711.17,
          2255334.56,
          2931159.15,
          860324.39,
          850879.1,
          1508565.8,
          459173.46,
          1216151.7,
          1414956.29,
          647522.77,
          4992455.72,
          962943.4,
          969310.4,
          2432602.44,
          1787309.05,
          703987.42,
          1423118.73,
          447869.76,
          1237891.7,
          793697.9,
          431490.72,
          3237026.92,
          11730.21,
          220910.41,
          1968.57,
          1789.91,
          7151,
          13051.22,
          359555.55,
          454928.63,
          402727.63,
          965932.01,
          163842.08,
          280892.14,
          102345.81999999999,
          209190.49,
          218717.89,
          44448.52,
          1515784.01,
          14202882.639999999,
          17268218.87,
          25431600.62,
          11509231.49,
          9185063.82,
          16573052.33,
          6570695.06,
          22737508.65,
          13589501.219999999,
          6843493.37,
          41056274.66
         ]
        }
       ],
       "layout": {
        "legend": {
         "tracegroupgap": 0
        },
        "margin": {
         "t": 60
        },
        "template": {
         "data": {
          "bar": [
           {
            "error_x": {
             "color": "#2a3f5f"
            },
            "error_y": {
             "color": "#2a3f5f"
            },
            "marker": {
             "line": {
              "color": "#E5ECF6",
              "width": 0.5
             },
             "pattern": {
              "fillmode": "overlay",
              "size": 10,
              "solidity": 0.2
             }
            },
            "type": "bar"
           }
          ],
          "barpolar": [
           {
            "marker": {
             "line": {
              "color": "#E5ECF6",
              "width": 0.5
             },
             "pattern": {
              "fillmode": "overlay",
              "size": 10,
              "solidity": 0.2
             }
            },
            "type": "barpolar"
           }
          ],
          "carpet": [
           {
            "aaxis": {
             "endlinecolor": "#2a3f5f",
             "gridcolor": "white",
             "linecolor": "white",
             "minorgridcolor": "white",
             "startlinecolor": "#2a3f5f"
            },
            "baxis": {
             "endlinecolor": "#2a3f5f",
             "gridcolor": "white",
             "linecolor": "white",
             "minorgridcolor": "white",
             "startlinecolor": "#2a3f5f"
            },
            "type": "carpet"
           }
          ],
          "choropleth": [
           {
            "colorbar": {
             "outlinewidth": 0,
             "ticks": ""
            },
            "type": "choropleth"
           }
          ],
          "contour": [
           {
            "colorbar": {
             "outlinewidth": 0,
             "ticks": ""
            },
            "colorscale": [
             [
              0,
              "#0d0887"
             ],
             [
              0.1111111111111111,
              "#46039f"
             ],
             [
              0.2222222222222222,
              "#7201a8"
             ],
             [
              0.3333333333333333,
              "#9c179e"
             ],
             [
              0.4444444444444444,
              "#bd3786"
             ],
             [
              0.5555555555555556,
              "#d8576b"
             ],
             [
              0.6666666666666666,
              "#ed7953"
             ],
             [
              0.7777777777777778,
              "#fb9f3a"
             ],
             [
              0.8888888888888888,
              "#fdca26"
             ],
             [
              1,
              "#f0f921"
             ]
            ],
            "type": "contour"
           }
          ],
          "contourcarpet": [
           {
            "colorbar": {
             "outlinewidth": 0,
             "ticks": ""
            },
            "type": "contourcarpet"
           }
          ],
          "heatmap": [
           {
            "colorbar": {
             "outlinewidth": 0,
             "ticks": ""
            },
            "colorscale": [
             [
              0,
              "#0d0887"
             ],
             [
              0.1111111111111111,
              "#46039f"
             ],
             [
              0.2222222222222222,
              "#7201a8"
             ],
             [
              0.3333333333333333,
              "#9c179e"
             ],
             [
              0.4444444444444444,
              "#bd3786"
             ],
             [
              0.5555555555555556,
              "#d8576b"
             ],
             [
              0.6666666666666666,
              "#ed7953"
             ],
             [
              0.7777777777777778,
              "#fb9f3a"
             ],
             [
              0.8888888888888888,
              "#fdca26"
             ],
             [
              1,
              "#f0f921"
             ]
            ],
            "type": "heatmap"
           }
          ],
          "heatmapgl": [
           {
            "colorbar": {
             "outlinewidth": 0,
             "ticks": ""
            },
            "colorscale": [
             [
              0,
              "#0d0887"
             ],
             [
              0.1111111111111111,
              "#46039f"
             ],
             [
              0.2222222222222222,
              "#7201a8"
             ],
             [
              0.3333333333333333,
              "#9c179e"
             ],
             [
              0.4444444444444444,
              "#bd3786"
             ],
             [
              0.5555555555555556,
              "#d8576b"
             ],
             [
              0.6666666666666666,
              "#ed7953"
             ],
             [
              0.7777777777777778,
              "#fb9f3a"
             ],
             [
              0.8888888888888888,
              "#fdca26"
             ],
             [
              1,
              "#f0f921"
             ]
            ],
            "type": "heatmapgl"
           }
          ],
          "histogram": [
           {
            "marker": {
             "pattern": {
              "fillmode": "overlay",
              "size": 10,
              "solidity": 0.2
             }
            },
            "type": "histogram"
           }
          ],
          "histogram2d": [
           {
            "colorbar": {
             "outlinewidth": 0,
             "ticks": ""
            },
            "colorscale": [
             [
              0,
              "#0d0887"
             ],
             [
              0.1111111111111111,
              "#46039f"
             ],
             [
              0.2222222222222222,
              "#7201a8"
             ],
             [
              0.3333333333333333,
              "#9c179e"
             ],
             [
              0.4444444444444444,
              "#bd3786"
             ],
             [
              0.5555555555555556,
              "#d8576b"
             ],
             [
              0.6666666666666666,
              "#ed7953"
             ],
             [
              0.7777777777777778,
              "#fb9f3a"
             ],
             [
              0.8888888888888888,
              "#fdca26"
             ],
             [
              1,
              "#f0f921"
             ]
            ],
            "type": "histogram2d"
           }
          ],
          "histogram2dcontour": [
           {
            "colorbar": {
             "outlinewidth": 0,
             "ticks": ""
            },
            "colorscale": [
             [
              0,
              "#0d0887"
             ],
             [
              0.1111111111111111,
              "#46039f"
             ],
             [
              0.2222222222222222,
              "#7201a8"
             ],
             [
              0.3333333333333333,
              "#9c179e"
             ],
             [
              0.4444444444444444,
              "#bd3786"
             ],
             [
              0.5555555555555556,
              "#d8576b"
             ],
             [
              0.6666666666666666,
              "#ed7953"
             ],
             [
              0.7777777777777778,
              "#fb9f3a"
             ],
             [
              0.8888888888888888,
              "#fdca26"
             ],
             [
              1,
              "#f0f921"
             ]
            ],
            "type": "histogram2dcontour"
           }
          ],
          "mesh3d": [
           {
            "colorbar": {
             "outlinewidth": 0,
             "ticks": ""
            },
            "type": "mesh3d"
           }
          ],
          "parcoords": [
           {
            "line": {
             "colorbar": {
              "outlinewidth": 0,
              "ticks": ""
             }
            },
            "type": "parcoords"
           }
          ],
          "pie": [
           {
            "automargin": true,
            "type": "pie"
           }
          ],
          "scatter": [
           {
            "fillpattern": {
             "fillmode": "overlay",
             "size": 10,
             "solidity": 0.2
            },
            "type": "scatter"
           }
          ],
          "scatter3d": [
           {
            "line": {
             "colorbar": {
              "outlinewidth": 0,
              "ticks": ""
             }
            },
            "marker": {
             "colorbar": {
              "outlinewidth": 0,
              "ticks": ""
             }
            },
            "type": "scatter3d"
           }
          ],
          "scattercarpet": [
           {
            "marker": {
             "colorbar": {
              "outlinewidth": 0,
              "ticks": ""
             }
            },
            "type": "scattercarpet"
           }
          ],
          "scattergeo": [
           {
            "marker": {
             "colorbar": {
              "outlinewidth": 0,
              "ticks": ""
             }
            },
            "type": "scattergeo"
           }
          ],
          "scattergl": [
           {
            "marker": {
             "colorbar": {
              "outlinewidth": 0,
              "ticks": ""
             }
            },
            "type": "scattergl"
           }
          ],
          "scattermapbox": [
           {
            "marker": {
             "colorbar": {
              "outlinewidth": 0,
              "ticks": ""
             }
            },
            "type": "scattermapbox"
           }
          ],
          "scatterpolar": [
           {
            "marker": {
             "colorbar": {
              "outlinewidth": 0,
              "ticks": ""
             }
            },
            "type": "scatterpolar"
           }
          ],
          "scatterpolargl": [
           {
            "marker": {
             "colorbar": {
              "outlinewidth": 0,
              "ticks": ""
             }
            },
            "type": "scatterpolargl"
           }
          ],
          "scatterternary": [
           {
            "marker": {
             "colorbar": {
              "outlinewidth": 0,
              "ticks": ""
             }
            },
            "type": "scatterternary"
           }
          ],
          "surface": [
           {
            "colorbar": {
             "outlinewidth": 0,
             "ticks": ""
            },
            "colorscale": [
             [
              0,
              "#0d0887"
             ],
             [
              0.1111111111111111,
              "#46039f"
             ],
             [
              0.2222222222222222,
              "#7201a8"
             ],
             [
              0.3333333333333333,
              "#9c179e"
             ],
             [
              0.4444444444444444,
              "#bd3786"
             ],
             [
              0.5555555555555556,
              "#d8576b"
             ],
             [
              0.6666666666666666,
              "#ed7953"
             ],
             [
              0.7777777777777778,
              "#fb9f3a"
             ],
             [
              0.8888888888888888,
              "#fdca26"
             ],
             [
              1,
              "#f0f921"
             ]
            ],
            "type": "surface"
           }
          ],
          "table": [
           {
            "cells": {
             "fill": {
              "color": "#EBF0F8"
             },
             "line": {
              "color": "white"
             }
            },
            "header": {
             "fill": {
              "color": "#C8D4E3"
             },
             "line": {
              "color": "white"
             }
            },
            "type": "table"
           }
          ]
         },
         "layout": {
          "annotationdefaults": {
           "arrowcolor": "#2a3f5f",
           "arrowhead": 0,
           "arrowwidth": 1
          },
          "autotypenumbers": "strict",
          "coloraxis": {
           "colorbar": {
            "outlinewidth": 0,
            "ticks": ""
           }
          },
          "colorscale": {
           "diverging": [
            [
             0,
             "#8e0152"
            ],
            [
             0.1,
             "#c51b7d"
            ],
            [
             0.2,
             "#de77ae"
            ],
            [
             0.3,
             "#f1b6da"
            ],
            [
             0.4,
             "#fde0ef"
            ],
            [
             0.5,
             "#f7f7f7"
            ],
            [
             0.6,
             "#e6f5d0"
            ],
            [
             0.7,
             "#b8e186"
            ],
            [
             0.8,
             "#7fbc41"
            ],
            [
             0.9,
             "#4d9221"
            ],
            [
             1,
             "#276419"
            ]
           ],
           "sequential": [
            [
             0,
             "#0d0887"
            ],
            [
             0.1111111111111111,
             "#46039f"
            ],
            [
             0.2222222222222222,
             "#7201a8"
            ],
            [
             0.3333333333333333,
             "#9c179e"
            ],
            [
             0.4444444444444444,
             "#bd3786"
            ],
            [
             0.5555555555555556,
             "#d8576b"
            ],
            [
             0.6666666666666666,
             "#ed7953"
            ],
            [
             0.7777777777777778,
             "#fb9f3a"
            ],
            [
             0.8888888888888888,
             "#fdca26"
            ],
            [
             1,
             "#f0f921"
            ]
           ],
           "sequentialminus": [
            [
             0,
             "#0d0887"
            ],
            [
             0.1111111111111111,
             "#46039f"
            ],
            [
             0.2222222222222222,
             "#7201a8"
            ],
            [
             0.3333333333333333,
             "#9c179e"
            ],
            [
             0.4444444444444444,
             "#bd3786"
            ],
            [
             0.5555555555555556,
             "#d8576b"
            ],
            [
             0.6666666666666666,
             "#ed7953"
            ],
            [
             0.7777777777777778,
             "#fb9f3a"
            ],
            [
             0.8888888888888888,
             "#fdca26"
            ],
            [
             1,
             "#f0f921"
            ]
           ]
          },
          "colorway": [
           "#636efa",
           "#EF553B",
           "#00cc96",
           "#ab63fa",
           "#FFA15A",
           "#19d3f3",
           "#FF6692",
           "#B6E880",
           "#FF97FF",
           "#FECB52"
          ],
          "font": {
           "color": "#2a3f5f"
          },
          "geo": {
           "bgcolor": "white",
           "lakecolor": "white",
           "landcolor": "#E5ECF6",
           "showlakes": true,
           "showland": true,
           "subunitcolor": "white"
          },
          "hoverlabel": {
           "align": "left"
          },
          "hovermode": "closest",
          "mapbox": {
           "style": "light"
          },
          "paper_bgcolor": "white",
          "plot_bgcolor": "#E5ECF6",
          "polar": {
           "angularaxis": {
            "gridcolor": "white",
            "linecolor": "white",
            "ticks": ""
           },
           "bgcolor": "#E5ECF6",
           "radialaxis": {
            "gridcolor": "white",
            "linecolor": "white",
            "ticks": ""
           }
          },
          "scene": {
           "xaxis": {
            "backgroundcolor": "#E5ECF6",
            "gridcolor": "white",
            "gridwidth": 2,
            "linecolor": "white",
            "showbackground": true,
            "ticks": "",
            "zerolinecolor": "white"
           },
           "yaxis": {
            "backgroundcolor": "#E5ECF6",
            "gridcolor": "white",
            "gridwidth": 2,
            "linecolor": "white",
            "showbackground": true,
            "ticks": "",
            "zerolinecolor": "white"
           },
           "zaxis": {
            "backgroundcolor": "#E5ECF6",
            "gridcolor": "white",
            "gridwidth": 2,
            "linecolor": "white",
            "showbackground": true,
            "ticks": "",
            "zerolinecolor": "white"
           }
          },
          "shapedefaults": {
           "line": {
            "color": "#2a3f5f"
           }
          },
          "ternary": {
           "aaxis": {
            "gridcolor": "white",
            "linecolor": "white",
            "ticks": ""
           },
           "baxis": {
            "gridcolor": "white",
            "linecolor": "white",
            "ticks": ""
           },
           "bgcolor": "#E5ECF6",
           "caxis": {
            "gridcolor": "white",
            "linecolor": "white",
            "ticks": ""
           }
          },
          "title": {
           "x": 0.05
          },
          "xaxis": {
           "automargin": true,
           "gridcolor": "white",
           "linecolor": "white",
           "ticks": "",
           "title": {
            "standoff": 15
           },
           "zerolinecolor": "white",
           "zerolinewidth": 2
          },
          "yaxis": {
           "automargin": true,
           "gridcolor": "white",
           "linecolor": "white",
           "ticks": "",
           "title": {
            "standoff": 15
           },
           "zerolinecolor": "white",
           "zerolinewidth": 2
          }
         }
        }
       }
      }
     },
     "metadata": {},
     "output_type": "display_data"
    }
   ],
   "source": [
    "# select only the refactions sales of stock inventory\n",
    "split_days = sales_columns[(sales_columns['Pe o Stock'] == 'Stock') & (sales_columns['TIPO DE DOCUMENTO'] == 'FACTURA') & (sales_columns['Linea P'] == 'REFACCIONES')]\n",
    "\n",
    "# group by store and subcategory, adding amount of sale\n",
    "treemap_cat = split_days.groupby(by=['SUCURSAL','SubC'])['COSTO'].sum().reset_index()\n",
    "treemap_cat\n",
    "\n",
    "# create the graph\n",
    "treemap = px.treemap(treemap_cat, path=['SUCURSAL', 'SubC'], values='COSTO')\n",
    "\n",
    "treemap"
   ]
  },
  {
   "attachments": {
    "image.png": {
     "image/png": "[encoded data removed]"
    }
   },
   "cell_type": "markdown",
   "metadata": {},
   "source": [
    "![image.png](attachment:image.png)"
   ]
  }
 ],
 "metadata": {
  "kernelspec": {
   "display_name": "base",
   "language": "python",
   "name": "python3"
  },
  "language_info": {
   "codemirror_mode": {
    "name": "ipython",
    "version": 3
   },
   "file_extension": ".py",
   "mimetype": "text/x-python",
   "name": "python",
   "nbconvert_exporter": "python",
   "pygments_lexer": "ipython3",
   "version": "3.10.12"
  },
  "orig_nbformat": 4,
  "vscode": {
   "interpreter": {
    "hash": "1fadda216af9391b106ca9a59cf074ed3f5d51a1e1c9abb3189596f1c95be002"
   }
  }
 },
 "nbformat": 4,
 "nbformat_minor": 2
}
